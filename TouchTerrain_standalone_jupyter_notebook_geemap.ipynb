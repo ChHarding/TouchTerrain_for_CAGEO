{
 "cells": [
  {
   "cell_type": "markdown",
   "metadata": {},
   "source": [
    "# TouchTerrain standalone in a jupyter notebook\n",
    "Chris Harding, June 15, 2020 (<charding@iastate.edu>)\n",
    "\n",
    "- this jupyter notebook runs a standalone version of TouchTerrain, similar to `TouchTerrain_standalone.py`\n",
    "- this notebook needs to be run in Python __3.x__  (I'm using 3.7)\n",
    "- Use pip to build and install a package called touchterrain (all lowercase!), which contains all functions needed to run in standalone and in server mode. This will also install all dependencies needed(!)\n",
    "\n",
    "\n",
    "- you can run pip either in a terminal or inside a jupyer cell (next cell)\n",
    "- to run it in a separate terminal, `cd` to the folder that contains the `setup.py` file (which will contain a folder called touchterrain)\n",
    "    - enter:  `pip install .` \n",
    "    - note the . at the end, which will make pip run the script in setup.py\n",
    "    - this will install all dependencies (including earthengine-api) \n",
    "- on Windows, if pip gives you trouble with __gdal__, get the whl file from [here](https://www.lfd.uci.edu/~gohlke/pythonlibs/) and install it separatly with `pip install <whl file>` then go back and try the full install again\n",
    "- on Mac, gdal should be avaiable via [conda-forge](https://anaconda.org/conda-forge/gdal), however I have run into trouble with shared library mismatches which I could not resolve! \n",
    "\n",
    "\n"
   ]
  },
  {
   "cell_type": "code",
   "execution_count": null,
   "metadata": {},
   "outputs": [],
   "source": [
    "# if you have already installed touchterrain, skip this cell!\n",
    "\n",
    "# Run this cell (Shift-Enter) to have pip install the touchterrain module and all its dependencies\n",
    "# Warning: this can take a awhile! You may not see any message during the install but you should see the full log when pip is done (or when you got errors)\n",
    "!pip install ."
   ]
  },
  {
   "cell_type": "code",
   "execution_count": 1,
   "metadata": {
    "tags": []
   },
   "outputs": [
    {
     "output_type": "stream",
     "name": "stderr",
     "text": "INFO:root:EE init() worked with .config/earthengine/credentials\n"
    }
   ],
   "source": [
    "# import packages\n",
    "import os, sys\n",
    "from pprint import pprint\n",
    "\n",
    "# earthengine-api and touchterrain should have been installed via pip earlier\n",
    "import ee\n",
    "from touchterrain.common import TouchTerrainEarthEngine as TouchTerrain\n",
    "\n",
    "# if you get errors running this cell, install the requested packages"
   ]
  },
  {
   "cell_type": "markdown",
   "metadata": {},
   "source": [
    "## If you're not going to use Earth Engine's (EE) online DEM data skip the next section and go to _Running Touchterrain standalone_\n"
   ]
  },
  {
   "cell_type": "markdown",
   "metadata": {},
   "source": [
    "### Preparing to use Google Earth Engine online DEM rasters \n",
    "\n",
    "- You don't need this if you only want to import terrain from locally stored raster files (geotiffs)!\n",
    "- TouchTerrain can use DEM data from Google Earth Engine (given the corners of the area), but you need to first request a developer account and set up an authentication file\n",
    "- (This dev account is different from your standard Google (Gmail, etc.) account!)\n",
    "- Getting the account is free and entitles you to a modest number of requests (4 per seconds), which are also free. To request got to https://signup.earthengine.google.com/, you'll get and email with a file. \n",
    "- refer to the part __Setting Up Authentication Credentials__ https://developers.google.com/earth-engine/python_install (ignore the stuff above it, as you should already have installed all the needed packages when you installed the earthengine-api package ...)\n",
    "\n",
    "\n",
    "- we have already imported ee but we will need to run `ee.Initialize()` before using the Earth Engine API. `ee.Initialize()` will try to access a local authentication file, which `ee.Authenticate()` will create\n",
    "- To run `ee.Authenticate()`, comment in and run the next cell, which will end up creating a authentication file for your local system. After you have done this ONCE, you should not have to use `ee.Authenticate()`, so you can comment it out again.\n"
   ]
  },
  {
   "cell_type": "code",
   "execution_count": null,
   "metadata": {},
   "outputs": [],
   "source": [
    "#ee.Authenticate()"
   ]
  },
  {
   "cell_type": "markdown",
   "metadata": {},
   "source": [
    "- When you use: `ee.Authenticate()` this text should appear and you should be redirected to a webpage:\n",
    "```\n",
    "To authorize access needed by Earth Engine, open the following URL in a web browser and follow the instructions. If the web browser does  not start automatically, please manually browse the URL below.\n",
    "\n",
    "    https://accounts.google.com/o/oauth2/auth?client_id=5172225062...\n",
    "\n",
    "```\n",
    "- the web page will have you select a Google account for use with ee and give you a code\n",
    "- paste in the code: `Enter verification code: <your code>` and hit Enter, you should get `Successfully saved authorization token.`\n",
    "- this will create a folder `.config` in your home folder and create an authentication file (in a earthengine folder) that `ee.Initialize()` will to authenticate you. \n",
    "- You need to run `ee.Initialize()` at least once before you can use online data from Earth Engine"
   ]
  },
  {
   "cell_type": "code",
   "execution_count": 2,
   "metadata": {
    "tags": []
   },
   "outputs": [
    {
     "output_type": "stream",
     "name": "stderr",
     "text": "WARNING:googleapiclient.discovery_cache:file_cache is unavailable when using oauth2client >= 4.0.0 or google-auth\nTraceback (most recent call last):\n  File \"C:\\Users\\charding\\anaconda3_3.7\\lib\\site-packages\\googleapiclient\\discovery_cache\\file_cache.py\", line 33, in <module>\n    from oauth2client.contrib.locked_file import LockedFile\nModuleNotFoundError: No module named 'oauth2client.contrib.locked_file'\n\nDuring handling of the above exception, another exception occurred:\n\nTraceback (most recent call last):\n  File \"C:\\Users\\charding\\anaconda3_3.7\\lib\\site-packages\\googleapiclient\\discovery_cache\\file_cache.py\", line 37, in <module>\n    from oauth2client.locked_file import LockedFile\nModuleNotFoundError: No module named 'oauth2client.locked_file'\n\nDuring handling of the above exception, another exception occurred:\n\nTraceback (most recent call last):\n  File \"C:\\Users\\charding\\anaconda3_3.7\\lib\\site-packages\\googleapiclient\\discovery_cache\\__init__.py\", line 44, in autodetect\n    from . import file_cache\n  File \"C:\\Users\\charding\\anaconda3_3.7\\lib\\site-packages\\googleapiclient\\discovery_cache\\file_cache.py\", line 41, in <module>\n    \"file_cache is unavailable when using oauth2client >= 4.0.0 or google-auth\"\nImportError: file_cache is unavailable when using oauth2client >= 4.0.0 or google-auth\nWARNING:googleapiclient.discovery_cache:file_cache is unavailable when using oauth2client >= 4.0.0 or google-auth\nTraceback (most recent call last):\n  File \"C:\\Users\\charding\\anaconda3_3.7\\lib\\site-packages\\googleapiclient\\discovery_cache\\file_cache.py\", line 33, in <module>\n    from oauth2client.contrib.locked_file import LockedFile\nModuleNotFoundError: No module named 'oauth2client.contrib.locked_file'\n\nDuring handling of the above exception, another exception occurred:\n\nTraceback (most recent call last):\n  File \"C:\\Users\\charding\\anaconda3_3.7\\lib\\site-packages\\googleapiclient\\discovery_cache\\file_cache.py\", line 37, in <module>\n    from oauth2client.locked_file import LockedFile\nModuleNotFoundError: No module named 'oauth2client.locked_file'\n\nDuring handling of the above exception, another exception occurred:\n\nTraceback (most recent call last):\n  File \"C:\\Users\\charding\\anaconda3_3.7\\lib\\site-packages\\googleapiclient\\discovery_cache\\__init__.py\", line 44, in autodetect\n    from . import file_cache\n  File \"C:\\Users\\charding\\anaconda3_3.7\\lib\\site-packages\\googleapiclient\\discovery_cache\\file_cache.py\", line 41, in <module>\n    \"file_cache is unavailable when using oauth2client >= 4.0.0 or google-auth\"\nImportError: file_cache is unavailable when using oauth2client >= 4.0.0 or google-auth\n"
    }
   ],
   "source": [
    "# skip this cell (or comment it out) if you do NOT want to use Earth Engine DEM data \n",
    "# but instead only want to use a local geotiff as DEM\n",
    "ee.Initialize()"
   ]
  },
  {
   "cell_type": "markdown",
   "metadata": {},
   "source": [
    "## Running Touchterrain standalone (local and online DEM data)\n",
    "\n",
    "- Put your settings into the dictionary below and hit Shift-Enter\n",
    "\n",
    "\n",
    "- for more info on the settings, look at the ReadMe on https://github.com/ChHarding/TouchTerrain_for_CAGEO\n",
    "- note, however, that the settings given below are in Python syntax, whereas the ReadMe describes the JSON syntax used in the config file\n",
    "- both are very similar except for None and True/False\n",
    "\n",
    "``` \n",
    "    Python:  JSON:\n",
    "    None     null\n",
    "    True     true\n",
    "    False    false\n",
    "```\n",
    "\n"
   ]
  },
  {
   "cell_type": "code",
   "execution_count": 3,
   "metadata": {
    "tags": []
   },
   "outputs": [
    {
     "output_type": "stream",
     "name": "stdout",
     "text": "settings stored, ready to process\n"
    }
   ],
   "source": [
    "args = {\n",
    "    # DEM/Area to print\n",
    "    \n",
    "    # A: use local DEM raster (geotiff)\n",
    "    #\"importedDEM\": \"stuff/pyramid.tif\",  # path to the geotif in relation to where this notebook sits\n",
    "    \n",
    "    # B: use area and a DEM online source via EarthEngine\n",
    "    \"importedDEM\": None,\n",
    "    \"DEM_name\": \"USGS/NED\",   # DEM source\n",
    "    \"bllat\": 44.50185267072875,   # bottom left corner lat\n",
    "    \"bllon\": -108.25427910156247, # bottom left corner long\n",
    "    \"trlat\": 44.69741706507476,   # top right corner lat\n",
    "    \"trlon\": -107.97962089843747, # top right corner long\n",
    "    \n",
    "    # 3D print parameters\n",
    "    \"tilewidth\": 80,  # width of each tile in mm, (tile height will be auto calculated)\n",
    "    \"printres\": 0.4,  # resolution (horizontal) of 3D printer in mm, should be your NOZZLE size or just a bit less! \n",
    "                      # Using something like 0.01 will NOT print out a super detailed version as you slicer will remove\n",
    "                      # super fine details anyway! You'll just wait a long time and get a super large STL file!\n",
    "    \n",
    "                      # If you want the equivalent of the original resolution of the DEM, use -1 (But again, think of the slicer ...)\n",
    "                      # This will work for any local DEM but only for small online DEMs b/c \n",
    "                      # Google now (Mar. 2020) caps raster downloads at 10 Mega pixels!\n",
    "    \n",
    "    \"ntilesx\": 1, # number of tiles in x  \n",
    "    \"ntilesy\": 1, # number of tiles in y    \n",
    "\n",
    "    \"basethick\": 0.5,   # thickness (in mm) of printed base\n",
    "    \"zscale\": 3,      # elevation (vertical) scaling\n",
    "    \"fileformat\": \"STLb\",  # format of 3D model files: \"obj\" wavefront obj (ascii),\n",
    "                           #   \"STLa\" ascii STL or \"STLb\" binary STL.\n",
    "                           #   To export just the (untiled) raster (no mesh), use \"GeoTiff\" \n",
    "    \"zip_file_name\": \"myterrain\",   # base name of zipfile, .zip will be added\n",
    "\n",
    "    \n",
    "    # Expert settings\n",
    "    \"tile_centered\": False, # True-> all tiles are centered around 0/0, False, all tiles \"fit together\"\n",
    "    \"CPU_cores_to_use\" : 0, # 0: use all available cores, None: don't use multiprocessing (single core only)\n",
    "                            # multi-core will be much faster for more than 1 tile \n",
    "    \"max_cells_for_memory_only\" : 5000^2, # if number of raster cells is bigger than this, use temp_files instead of memory.\n",
    "                            # set this very high to force use of memory and lower it if you run out of memory\n",
    "    \"no_bottom\": False,   # omit bottom triangles? Most slicers still work and it makes smaller files\n",
    "    \"no_normal\": True,    # Don't calculate normals for triangles. This is significantly faster but some viewer may need them.\n",
    "    \"bottom_image\": None, # 1 band greyscale image used for bottom relief\n",
    "    \"ignore_leq\": None,   # set all values <= this to NaN so they don't print\n",
    "    \"lower_leq\": None,    # e.g. [0.0, 2.0] values <= 0.0 will be lowered by 2mm in the final model\n",
    "    \"unprojected\": False, # don't project to UTM (for EE rasters only)\n",
    "    \"projection\": None,   # None means use the closest UTM zone. Can be a EPSG number (int!) instead but not all work. \n",
    "    \"only\" : None,        # if not None: list with x and y tile index (1 based) of the only tile to process\n",
    "                          #   e.g. [1,1] will only process the tile in upper left corner, [2,1] the tile right to it, etc.\n",
    "}\n",
    "\n",
    "########################################################\n",
    "\n",
    "# if we want to work on a local raster, get the full pathname to it\n",
    "if args[\"importedDEM\"] != None: \n",
    "    from os.path import abspath\n",
    "    args[\"importedDEM\"]= abspath(args[\"importedDEM\"]) \n",
    "    print(\"reading in local DEM:\", args[\"importedDEM\"])\n",
    "print(\"settings stored, ready to process\")"
   ]
  },
  {
   "cell_type": "markdown",
   "metadata": {},
   "source": [
    "### Digitize a polygon and make a model from it (instead of the box)\n",
    "- the next 2 cells will let you digitize a polygon\n",
    "- in addition to using Earth Engine, this also requires the geemap module\n",
    "- to install it, type `pip install geemap` into a OS terminal\n",
    "- This will show a Google map in the next cell with the hillshaded DEM and your bounding box in red\n",
    "- ignore any Exceptions with with oauth2client >= 4.0.0 or google-auth, they are bogus \n",
    "- On the left, find the Draw Polygon button and hit it\n",
    "- Digitize a polygon anywhere\n",
    "- Run the cell below the Map to make a GeoJSON polygon and add it to args\n",
    "- Run the processing cell "
   ]
  },
  {
   "cell_type": "code",
   "execution_count": 93,
   "metadata": {
    "tags": []
   },
   "outputs": [
    {
     "output_type": "stream",
     "name": "stderr",
     "text": "WARNING:googleapiclient.discovery_cache:file_cache is unavailable when using oauth2client >= 4.0.0 or google-auth\nTraceback (most recent call last):\n  File \"C:\\Users\\charding\\anaconda3_3.7\\lib\\site-packages\\googleapiclient\\discovery_cache\\file_cache.py\", line 33, in <module>\n    from oauth2client.contrib.locked_file import LockedFile\nModuleNotFoundError: No module named 'oauth2client.contrib.locked_file'\n\nDuring handling of the above exception, another exception occurred:\n\nTraceback (most recent call last):\n  File \"C:\\Users\\charding\\anaconda3_3.7\\lib\\site-packages\\googleapiclient\\discovery_cache\\file_cache.py\", line 37, in <module>\n    from oauth2client.locked_file import LockedFile\nModuleNotFoundError: No module named 'oauth2client.locked_file'\n\nDuring handling of the above exception, another exception occurred:\n\nTraceback (most recent call last):\n  File \"C:\\Users\\charding\\anaconda3_3.7\\lib\\site-packages\\googleapiclient\\discovery_cache\\__init__.py\", line 44, in autodetect\n    from . import file_cache\n  File \"C:\\Users\\charding\\anaconda3_3.7\\lib\\site-packages\\googleapiclient\\discovery_cache\\file_cache.py\", line 41, in <module>\n    \"file_cache is unavailable when using oauth2client >= 4.0.0 or google-auth\"\nImportError: file_cache is unavailable when using oauth2client >= 4.0.0 or google-auth\nWARNING:googleapiclient.discovery_cache:file_cache is unavailable when using oauth2client >= 4.0.0 or google-auth\nTraceback (most recent call last):\n  File \"C:\\Users\\charding\\anaconda3_3.7\\lib\\site-packages\\googleapiclient\\discovery_cache\\file_cache.py\", line 33, in <module>\n    from oauth2client.contrib.locked_file import LockedFile\nModuleNotFoundError: No module named 'oauth2client.contrib.locked_file'\n\nDuring handling of the above exception, another exception occurred:\n\nTraceback (most recent call last):\n  File \"C:\\Users\\charding\\anaconda3_3.7\\lib\\site-packages\\googleapiclient\\discovery_cache\\file_cache.py\", line 37, in <module>\n    from oauth2client.locked_file import LockedFile\nModuleNotFoundError: No module named 'oauth2client.locked_file'\n\nDuring handling of the above exception, another exception occurred:\n\nTraceback (most recent call last):\n  File \"C:\\Users\\charding\\anaconda3_3.7\\lib\\site-packages\\googleapiclient\\discovery_cache\\__init__.py\", line 44, in autodetect\n    from . import file_cache\n  File \"C:\\Users\\charding\\anaconda3_3.7\\lib\\site-packages\\googleapiclient\\discovery_cache\\file_cache.py\", line 41, in <module>\n    \"file_cache is unavailable when using oauth2client >= 4.0.0 or google-auth\"\nImportError: file_cache is unavailable when using oauth2client >= 4.0.0 or google-auth\n"
    },
    {
     "output_type": "display_data",
     "data": {
      "text/plain": "Map(center=[44.599634867901756, -108.11694999999997], controls=(WidgetControl(options=['position'], widget=HBo…",
      "application/vnd.jupyter.widget-view+json": {
       "version_major": 2,
       "version_minor": 0,
       "model_id": "1dcd040ef7584213ba170e7a04fa1edb"
      }
     },
     "metadata": {}
    }
   ],
   "source": [
    "import geemap\n",
    "center_lat = (args[\"trlat\"] + args[\"bllat\"]) / 2\n",
    "center_lon = (args[\"trlon\"] + args[\"bllon\"]) / 2\n",
    "\n",
    "Map = geemap.Map(center=(center_lat, center_lon), zoom=4) # Create an interactive map\n",
    "image = ee.Image(args[\"DEM_name\"]) # Add source DEM dataset\n",
    "\n",
    "# make a hillshade layer and add it. \n",
    "# You can change the parameters in the next 2 lines for you needs and re-run the cell\n",
    "azimuth = 315   # horizontal angle of (direction to) sun\n",
    "elevation = 35  # vertical sun angle \n",
    "hs = ee.Terrain.hillshade(image, azimuth, elevation) \n",
    "vis_params = {'min': 0,'max': 255,}\n",
    "Map.addLayer(hs, vis_params, 'hillshade', # Add hillshade to Map\n",
    "             shown=True, opacity=0.5) \n",
    "\n",
    "# show bounding box\n",
    "rect = ee.Geometry.Rectangle(\n",
    "        args[\"bllon\"], args[\"bllat\"], args[\"trlon\"], args[\"trlat\"])\n",
    "rect_feature = ee.Feature(rect)\n",
    "Map.addLayer(rect_feature, {\"color\": 'FF0000'}, \"bounding box\")\n",
    "\n",
    "Map # makes the interactive map show up as output of this cell\n",
    "# Note: ignore exceptions with oauth2client >= 4.0.0 or google-auth"
   ]
  },
  {
   "cell_type": "code",
   "execution_count": 94,
   "metadata": {
    "tags": []
   },
   "outputs": [
    {
     "output_type": "stream",
     "name": "stdout",
     "text": "Using digitized polygon with 24 points\n"
    }
   ],
   "source": [
    "# in the map GUI, digitze a polygon, then run this cell\n",
    "\n",
    "# make GeoJSON polygon from digitized polygon\n",
    "polyft = Map.draw_last_feature\n",
    "from geojson import Polygon\n",
    "coords = polyft.getInfo()['geometry']['coordinates']\n",
    "poly = Polygon(coords) # coords[0] is the digitized polygon, [1] etc. would be holes\n",
    "args[\"polygon\"] = poly # use this GeoJSON polygon in processing \n",
    "print(\"Using digitized polygon with\", len(coords[0]), \"points\")"
   ]
  },
  {
   "cell_type": "code",
   "execution_count": 95,
   "metadata": {
    "scrolled": true,
    "tags": []
   },
   "outputs": [
    {
     "output_type": "stream",
     "name": "stderr",
     "text": "INFO:root:Using GeoJSON polygon for masking with 24 points\nINFO:root:Log for creating 3D model tile(s) for  NED_-95.13_35.03 \n \nINFO:root:DEM_name = USGS/NED \nINFO:root:trlat = 35.12759068 \nINFO:root:trlon = -94.88680923 \nINFO:root:bllat = 34.93259932 \nINFO:root:bllon = -95.36455377 \nINFO:root:printres = 0.4 \nINFO:root:ntilesx = 1 \nINFO:root:ntilesy = 1 \nINFO:root:tilewidth = 80 \nINFO:root:basethick = 0 \nINFO:root:zscale = 3 \nINFO:root:fileformat = STLb \nINFO:root:no_bottom = False \nINFO:root:unprojected = False \nINFO:root:no_normals = True \nINFO:root:\nprocess started: 17:35:57.380744 \nINFO:root:\nRegion (lat/lon):\n   35.12759068 -94.88680923 (top right)\n   34.93259932 -95.36455377 (bottom left) \nINFO:root:center at [-95.1256815, 35.030095]  UTM 15 N ,  EPSG:32615 \nINFO:root:lon/lat size in degrees: [0.4777445400000033, 0.19499135999999595] \nLog for creating 3D model tile(s) for  NED_-95.13_35.03 \n \nDEM_name = USGS/NED \ntrlat = 35.12759068 \ntrlon = -94.88680923 \nbllat = 34.93259932 \nbllon = -95.36455377 \nprintres = 0.4 \nntilesx = 1 \nntilesy = 1 \ntilewidth = 80 \nbasethick = 0 \nzscale = 3 \nfileformat = STLb \nno_bottom = False \nunprojected = False \nno_normals = True \n\nprocess started: 17:35:57.380744 \n\nRegion (lat/lon):\n   35.12759068 -94.88680923 (top right)\n   34.93259932 -95.36455377 (bottom left) \ncenter at [-95.1256815, 35.030095]  UTM 15 N ,  EPSG:32615 \nlon/lat size in degrees: [0.4777445400000033, 0.19499135999999595] \nrequesting 217.98217683037646 m resolution from EarthEngine\nINFO:root:Earth Engine raster: USGS/NED \nINFO:root: USGS National Elevation Dataset 1/3 arc-second \nEarth Engine raster: USGS/NED \n USGS National Elevation Dataset 1/3 arc-second \nINFO:root:URL for geotiff is:  https://earthengine.googleapis.com/v1alpha/projects/earthengine-legacy/thumbnails/99fabc7b1496e3ce25c268d04a0169b4-65dc517e48a7079e7b72fb9f7918b641:getPixels \nURL for geotiff is:  https://earthengine.googleapis.com/v1alpha/projects/earthengine-legacy/thumbnails/99fabc7b1496e3ce25c268d04a0169b4-65dc517e48a7079e7b72fb9f7918b641:getPixels \nINFO:root: geotiff size: 0.030979156494140625 Mb \nINFO:root: cell size 217.98217683037646 m, upper left corner (x/y):  284466.74076364125 3888802.034653916 \nINFO:root:omitting cells with elevation < -16384 \nINFO:root:full (untiled) raster (height,width):  (95, 198) float64 \nINFO:root:cell size: 217.98217683037646 m  \nINFO:root:adjusted print res from the requested 0.4 mm to 0.40404040404040403 mm to ensure correct model dimensions \nINFO:root:total model size in mm: 80 x 38.38383838383838 \nINFO:root:map scale is 1 : 539505.8876551818 \nINFO:root:Cells per tile (x/y) 198 x 95 \nINFO:root:using single-core only \n geotiff size: 0.030979156494140625 Mb \n cell size 217.98217683037646 m, upper left corner (x/y):  284466.74076364125 3888802.034653916 \nomitting cells with elevation < -16384 \nfull (untiled) raster (height,width):  (95, 198) float64 \ncell size: 217.98217683037646 m  \nadjusted print res from the requested 0.4 mm to 0.40404040404040403 mm to ensure correct model dimensions \ntotal model size in mm: 80 x 38.38383838383838 \nmap scale is 1 : 539505.8876551818 \nelev min/max : 150.40 to 549.42\nCells per tile (x/y) 198 x 95 \nusing single-core only \nprocessing tile: 1 1\ntop min/max: 0.5 7.156408402985034\ncreating internal triangle data structure for <_MainProcess(MainProcess, started)>\n10 % <_MainProcess(MainProcess, started)>\n20 % <_MainProcess(MainProcess, started)>\n30 % <_MainProcess(MainProcess, started)>\n40 % <_MainProcess(MainProcess, started)>\n50 % <_MainProcess(MainProcess, started)>\n60 % <_MainProcess(MainProcess, started)>\n70 % <_MainProcess(MainProcess, started)>\n80 % <_MainProcess(MainProcess, started)>\n90 % <_MainProcess(MainProcess, started)>\n100% <_MainProcess(MainProcess, started)> \n\nWriting tile into temp. file c:\\Users\\charding\\Box\\TouchTerrain\\TouchTerrain_for_CAGEO\\tmp\\myterrain11.tmp\nassembling binary stl from 37360 triangles\n10 %, 20 %, 30 %, 40 %, 50 %, 60 %, 70 %, 80 %, 90 %, 100 %, \n\ntile 1 1 STLb 1.7815437316894531 Mb \nINFO:root:\n1 x 1 tiles, tile size 80.00 x 38.38 mm\n \nINFO:root:tile 1 1 : height:  0.5 - 7.156408402985034 mm , file size: 2 Mb \nINFO:root:\ntotal size for all tiles: 2 Mb \nINFO:root:added full geotiff as NED_-95.13_35.03.tif \nINFO:root:\nprocessing finished: 17:36:00.551263 \n\n1 x 1 tiles, tile size 80.00 x 38.38 mm\n \ntile 1 1 : height:  0.5 - 7.156408402985034 mm , file size: 2 Mb \n\ntotal size for all tiles: 2 Mb \nzip finished: 17:36:00.547274\nadded full geotiff as NED_-95.13_35.03.tif \n\nprocessing finished: 17:36:00.551263 \n\nDONE!\n\nCreated zip file tmp\\myterrain.zip 1.81 Mb\nError removing logfile tmp\\myterrain.log [WinError 32] The process cannot access the file because it is being used by another process: 'tmp\\\\myterrain.log'\n"
    }
   ],
   "source": [
    "#\n",
    "# Process the data\n",
    "#\n",
    "\n",
    "# This may take some time! You'll see In[*] and some log messages (will also be in the logfile inside the zip)\n",
    "# You may see some red stuff with 10%, etc. - don't worry, that's normal\n",
    "totalsize, full_zip_file_name = TouchTerrain.get_zipped_tiles(**args) # all args are in a dict\n",
    "print(\"\\nDONE!\\n\\nCreated zip file\", full_zip_file_name,  \"%.2f\" % totalsize, \"Mb\")\n",
    "\n",
    "# your zip file will be inside the tmp folder which is inside the same folder your notebook file is in"
   ]
  },
  {
   "cell_type": "code",
   "execution_count": 96,
   "metadata": {
    "scrolled": true,
    "tags": []
   },
   "outputs": [
    {
     "output_type": "stream",
     "name": "stdout",
     "text": "unzipped files from tmp\\myterrain.zip into the folder tmp\\myterrain\ntmp\\myterrain contains these files:\n  tmp\\myterrain\\logfile.txt\n  tmp\\myterrain\\NED_-95.13_35.03.tif\n  tmp\\myterrain\\NED_-95.13_35.03_tile_1_1.STL\n"
    }
   ],
   "source": [
    "# If you want to unzip the zip file, run this cell\n",
    "# (You will need to do this before using k3d for visualization)\n",
    "\n",
    "import os.path\n",
    "from glob import glob\n",
    "folder, file = os.path.splitext(full_zip_file_name) # get folder of zip file\n",
    "\n",
    "# unzip the zipfile into the folder it's already in\n",
    "import zipfile\n",
    "zip_ref = zipfile.ZipFile(full_zip_file_name, 'r')\n",
    "zip_ref.extractall(folder)\n",
    "zip_ref.close()\n",
    "print (\"unzipped files from\", full_zip_file_name, \"into the folder\", folder)\n",
    "print (folder, \"contains these files:\")\n",
    "for f in glob(folder + os.sep + \"*.*\"): print(\" \", f)"
   ]
  },
  {
   "cell_type": "markdown",
   "metadata": {},
   "source": [
    "## Visualize the STL file(s)\n",
    "\n",
    "- If you want to visualize your model(s), install k3d (`pip install k3d`) and run the cell below\n",
    "- this won't work with OBJ files, as k3d can't read them in.\n",
    "- binary STL should work, but ascii may not.\n"
   ]
  },
  {
   "cell_type": "code",
   "execution_count": 98,
   "metadata": {
    "tags": []
   },
   "outputs": [
    {
     "output_type": "stream",
     "name": "stdout",
     "text": "adding to viewer: tmp\\myterrain\\NED_-95.13_35.03_tile_1_1.STL 0x61b090\n"
    },
    {
     "output_type": "display_data",
     "data": {
      "text/plain": "Output()",
      "application/vnd.jupyter.widget-view+json": {
       "version_major": 2,
       "version_minor": 0,
       "model_id": "6fbd7d18aeeb470fa6120430808c5a83"
      }
     },
     "metadata": {}
    }
   ],
   "source": [
    "import k3d\n",
    "\n",
    "# get all stl files in that folder\n",
    "mesh_files = glob(folder + os.sep + \"*.stl\")\n",
    "#print \"in folder\", folder, \"using\", mesh_files\n",
    "\n",
    "plot = k3d.plot()\n",
    "\n",
    "from random import randint\n",
    "for m in mesh_files:\n",
    "    col = (randint(0,255) << 16) + (randint(0,255) << 8) + randint(0,255) # random rgb color as hex\n",
    "    print(\"adding to viewer:\", m, hex(col))\n",
    "    buf = open(m, 'rb').read()\n",
    "    plot += k3d.stl(buf, color=col)\n",
    "plot.display()"
   ]
  },
  {
   "cell_type": "code",
   "execution_count": null,
   "metadata": {},
   "outputs": [],
   "source": []
  }
 ],
 "metadata": {
  "kernelspec": {
   "display_name": "Python 3.7.3 64-bit ('base': conda)",
   "language": "python",
   "name": "python_defaultSpec_1599257058363"
  },
  "language_info": {
   "codemirror_mode": {
    "name": "ipython",
    "version": 3
   },
   "file_extension": ".py",
   "mimetype": "text/x-python",
   "name": "python",
   "nbconvert_exporter": "python",
   "pygments_lexer": "ipython3",
   "version": "3.7.3-final"
  },
  "varInspector": {
   "cols": {
    "lenName": 16,
    "lenType": 16,
    "lenVar": 40
   },
   "kernels_config": {
    "python": {
     "delete_cmd_postfix": "",
     "delete_cmd_prefix": "del ",
     "library": "var_list.py",
     "varRefreshCmd": "print(var_dic_list())"
    },
    "r": {
     "delete_cmd_postfix": ") ",
     "delete_cmd_prefix": "rm(",
     "library": "var_list.r",
     "varRefreshCmd": "cat(var_dic_list()) "
    }
   },
   "types_to_exclude": [
    "module",
    "function",
    "builtin_function_or_method",
    "instance",
    "_Feature"
   ],
   "window_display": false
  }
 },
 "nbformat": 4,
 "nbformat_minor": 2
}