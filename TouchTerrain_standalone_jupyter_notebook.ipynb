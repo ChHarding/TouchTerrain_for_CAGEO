{
 "cells": [
  {
   "cell_type": "markdown",
   "metadata": {},
   "source": [
    "# TouchTerrain standalone in a jupyter notebook\n",
    "Chris Harding, May. 4, 2020 (<charding@iastate.edu>)\n",
    "\n",
    "- this jupyter notebook runs a standalone version of TouchTerrain, similar to `TouchTerrain_standalone.py`\n",
    "- this notebook needs to be run in Python __3.x__  (I'm using 3.7)\n",
    "- I assume you've installed anaconda or miniconda and have the standard 3.party packages already installed (e.g. numpy, pillow (aka PIL), etc.)\n",
    "- the following additional packages are required, either use (ana)conda or pip to install:\n",
    "    - earthengine-api __ONLY if you want to use Google Earth Engine's (GEE) online DEM data, NOT needed for converting local DEM raster files (geotiffs)__ \n",
    "    - gdal (On windows, if conda gives you trouble, get the whl file from [here](https://www.lfd.uci.edu/~gohlke/pythonlibs/) and install via `pip install <whl file>`\n",
    "    - vectors: \n",
    "        - do NOT use the default pip repo, as it's pointing to an outdated version of verctors! \n",
    "        - Instead, go to https://github.com/allelos/vectors and download the zip file. \n",
    "        - Unzip it (will be verctors-master), open a terminal, cd to the unzipped folder and run `python setup.py install` to install it.\n",
    "        - If you're using anaconda, you can open a terminal with Environments -> <your environment, typically __base__> -> left click on green arrow -> Open Terminal\n",
    "        - `cd <folder with unzipped vectors-master)`\n",
    "        - `python setup.py install`\n",
    "        \n",
    "\n",
    "- if you're never going to use Google Earth Engine's (GEE) online DEM data skip the next section and go to __Running TouchTerrain__\n",
    "\n",
    "\n",
    "### Using Google Earth Engine online DEM rasters \n",
    "\n",
    "- You don't need this if you only want to import terrain from locally stored raster files (geotiffs)!\n",
    "- TouchTerrain can use DEM data from Google Earth Engine (given the corners of the area), but you need to first request a developer account and set up an authentication file\n",
    "- (This dev account is different from your standard Google (Gmail, etc.) account!)\n",
    "- Getting the account is free and entitles you to a modest number of requests (4 per seconds), which are also free. To request got to https://signup.earthengine.google.com/, you'll get and email with a file. \n",
    "- refer to the part __Setting Up Authentication Credentials__ https://developers.google.com/earth-engine/python_install_manual (ignore the stuff above it, as you should already have installed all the needed packages when you installed the earthengine-api package ...)"
   ]
  },
  {
   "cell_type": "code",
   "execution_count": null,
   "metadata": {},
   "outputs": [],
   "source": [
    "# comment out (remove the #) the next line and run this cell to see if you could use ee (Earth Engine)\n",
    "#import ee; ee.Initialize()"
   ]
  },
  {
   "cell_type": "markdown",
   "metadata": {},
   "source": [
    "if you get: \n",
    "\n",
    "`Please authorize access to your Earth Engine account by running earthengine authenticate in your command line, and then retry.`\n",
    "\n",
    "comment out and run the cell below and run it (Shift-Enter) The ! means it will run `earthengine authenticate` inside a OS shell (commandline). \n",
    "\n",
    "- This will asked to to sign in to your Google Account and give you a very long authentication token. \n",
    "- Paste that token in, to your commandline\n",
    "- if correct it will create a folder `.config` in your home folder and create a authentication file (in a earthengine folder)\n",
    "- with this file in place go back to the cell above (`import ee;ee.Initialize()`) and run it again\n",
    "- this time, it should work and you now have access to the Google Earth engine API and it's terrain data (DEM sources)"
   ]
  },
  {
   "cell_type": "code",
   "execution_count": null,
   "metadata": {},
   "outputs": [],
   "source": [
    "#!earthengine authenticate"
   ]
  },
  {
   "cell_type": "markdown",
   "metadata": {},
   "source": [
    "## Running TouchTerrain\n",
    "\n",
    "Click on the cell below and hit Shift-Enter to run it (won't show anything, just does some path setup stuff)   "
   ]
  },
  {
   "cell_type": "code",
   "execution_count": null,
   "metadata": {},
   "outputs": [],
   "source": [
    "# RUN THIS CELL TO START\n",
    "\n",
    "# just some setup stuff - nothing to see here\n",
    "import os, sys\n",
    "from os.path import abspath\n",
    "from pprint import pprint\n",
    "#from glob import glob\n",
    "\n",
    "# need to add parent folder to sys.path, so we can later import common, which is a sibling to standalne\n",
    "#this_folder = abspath(os.getcwd())\n",
    "#parentfolder = abspath(os.getcwd() + os.sep + \"..\")\n",
    "#sys.path.append(parentfolder)\n",
    "#print(sys.path)\n",
    "#print('setup done')"
   ]
  },
  {
   "cell_type": "markdown",
   "metadata": {},
   "source": [
    "Put your settings into the dictionary below and  hit Shift-Enter\n",
    "\n",
    "- for more info on the settings, look at the ReadMe on https://github.com/ChHarding/TouchTerrain_for_CAGEO\n",
    "- note, however, that the settings given below are in Python syntax, whereas the ReadMe describes the JSON syntax used in the config file given to the .py code version of standalone Touch Terrain\n",
    "- both are very similar except for None and True/False\n",
    "- __Python__ vs JSON:\n",
    "    - `None  null`\n",
    "    - `True  true`\n",
    "    - `False false`"
   ]
  },
  {
   "cell_type": "code",
   "execution_count": null,
   "metadata": {},
   "outputs": [],
   "source": [
    "args = {\n",
    "    # DEM/Area to print\n",
    "    \n",
    "    # A: use local DEM raster (geotiff)\n",
    "    #\"importedDEM\": \"pyramid.tif\",  # put file in same folder as this notebook file!\n",
    "    \n",
    "    # B: use area and a DEM online source via EarthEngine\n",
    "    \"importedDEM\": None,\n",
    "    \"DEM_name\": \"USGS/NED\",   # DEM source\n",
    "    \"bllat\": 44.50185267072875,   # bottom left corner lat\n",
    "    \"bllon\": -108.25427910156247, # bottom left corner long\n",
    "    \"trlat\": 44.69741706507476,   # top right corner lat\n",
    "    \"trlon\": -107.97962089843747, # top right corner long\n",
    "    \n",
    "    # 3D print parameters\n",
    "    \"tilewidth\": 80,  # width of each tile in mm, (tile height will be auto calculated)\n",
    "    \"printres\": 0.4,  # resolution (horizontal) of 3D printer (= size of one pixel) in mm, \n",
    "                      # should be your nozzle size or just a bit less! \n",
    "                      # Using something like 0.01 will NOT print out a super detailed version \n",
    "                      # as you slicer will remove such fine details anyway! Instead, you'll\n",
    "                      # just wait a long time and get a super large STL file!\n",
    "                      # If you want the original resolution of the DEM, use -1\n",
    "    \n",
    "    \"ntilesx\": 1, # number of tiles in x  \n",
    "    \"ntilesy\": 1, # number of tiles in y    \n",
    "\n",
    "    \"basethick\": 0.5,   # thickness (in mm) of printed base\n",
    "    \"zscale\": 3,      # elevation (vertical) scaling\n",
    "    \"fileformat\": \"STLb\",  # format of 3D model files: \"obj\" wavefront obj (ascii),\n",
    "                           #   \"STLa\" ascii STL or \"STLb\" binary STL.\n",
    "                           #   To export just the (untiled) raster (no mesh), use \"GeoTiff\" \n",
    "    \"zip_file_name\": \"myterrain\",   # base name of zipfile, .zip will be added\n",
    "\n",
    "    \n",
    "    # Expert settings\n",
    "    \"tile_centered\": False, # True-> all tiles are centered around 0/0, False, all tiles \"fit together\"\n",
    "    \"CPU_cores_to_use\" : 0, # 0: use all available cores, None: don't use multiprocessing (single core only)\n",
    "                            # multi-core will be much faster for more than 1 tile \n",
    "    \"max_cells_for_memory_only\" : 5000^2, # if number of raster cells is bigger than this, use temp_files instead of memory.\n",
    "                            # set this very high to force use of memory and lower it if you run out of memory\n",
    "    \"no_bottom\": False,   # omit bottom triangles? Most slicers still work and it makes smaller files\n",
    "    \"no_normal\": True,    # Don't calculate normals for triangles. This is significantly faster but some viewer may need them.\n",
    "    \"bottom_image\": None, # 1 band greyscale image used for bottom relief\n",
    "    \"ignore_leq\": None,   # set all values <= this to NaN so they don't print\n",
    "    \"lower_leq\": None,  # e.g. [0.0, 2.0] values <= 0.0 will be lowered by 2mm in the final model\n",
    "    \"unprojected\": False, # don't project to UTM (for EE rasters only)\n",
    "    \"projection\": None,   # None means use the closest UTM zone. Can be a EPSG number (int!) instead but not all work. \n",
    "    \"only\" : None,        # if not None: list with x and y tile index (1 based) of the only tile to process\n",
    "                          #   e.g. [1,1] will only process the tile in upper left corner, [2,1] the tile right to it, etc.\n",
    "}\n",
    "\n",
    "########################################################\n",
    "\n",
    "# if we want to work on a local raster, get the full pathname to it\n",
    "if args[\"importedDEM\"] != None: \n",
    "    args[\"importedDEM\"]= abspath(args[\"importedDEM\"]) \n",
    "#pprint(args)\n",
    "print(\"settings stored, ready to process\")"
   ]
  },
  {
   "cell_type": "code",
   "execution_count": null,
   "metadata": {
    "scrolled": true
   },
   "outputs": [],
   "source": [
    "from touchterrain.common import TouchTerrainEarthEngine as TouchTerrain\n",
    "# Process the data\n",
    "\n",
    "# This may take some time! You'll see In[*] and some log messages (will also be in the logfile inside the zip)\n",
    "# You may see some red stuff with 10%, etc. - don't worry, that's normal\n",
    "totalsize, full_zip_file_name = TouchTerrain.get_zipped_tiles(**args) # all args are in a dict\n",
    "print(\"\\nDONE!\\n\\nCreated zip file\", full_zip_file_name,  \"%.2f\" % totalsize, \"Mb\")\n",
    "\n",
    "# your zip file will be inside the tmp folder which is inside the same folder your notebook file is in"
   ]
  },
  {
   "cell_type": "code",
   "execution_count": null,
   "metadata": {
    "scrolled": true
   },
   "outputs": [],
   "source": [
    "# If you want to unzip the zip file, run this cell\n",
    "# (You will need to do this before using k3d for visualization)\n",
    "\n",
    "import os.path\n",
    "from glob import glob\n",
    "folder, file = os.path.splitext(full_zip_file_name) # get folder of zip file\n",
    "\n",
    "# unzip the zipfile into the folder it's already in\n",
    "import zipfile\n",
    "zip_ref = zipfile.ZipFile(full_zip_file_name, 'r')\n",
    "zip_ref.extractall(folder)\n",
    "zip_ref.close()\n",
    "print (\"unzipped files from\", full_zip_file_name, \"into the folder\", folder)\n",
    "print (folder, \"contains these files:\")\n",
    "for f in glob(folder + os.sep + \"*.*\"): print(\" \", f)"
   ]
  },
  {
   "cell_type": "markdown",
   "metadata": {},
   "source": [
    "## Visualize the STL file(s)\n",
    "\n",
    "- If you want to visualize your model(s), install k3d (`pip install k3d`) and run the cell below\n",
    "- this won't work with OBJ files, as k3d can't read them in\n"
   ]
  },
  {
   "cell_type": "code",
   "execution_count": null,
   "metadata": {},
   "outputs": [],
   "source": [
    "import k3d\n",
    "\n",
    "# get all stl files in that folder\n",
    "mesh_files = glob(folder + os.sep + \"*.stl\")\n",
    "#print \"in folder\", folder, \"using\", mesh_files\n",
    "\n",
    "plot = k3d.plot()\n",
    "\n",
    "from random import randint\n",
    "for m in mesh_files:\n",
    "    col = (randint(0,255) << 16) + (randint(0,255) << 8) + randint(0,255) # random rgb color as hex\n",
    "    print(\"adding to viewer:\", m, hex(col))\n",
    "    buf = open(m, 'rb').read()\n",
    "    plot += k3d.stl(buf, color=col)\n",
    "plot.display()"
   ]
  },
  {
   "cell_type": "code",
   "execution_count": null,
   "metadata": {},
   "outputs": [],
   "source": []
  }
 ],
 "metadata": {
  "kernelspec": {
   "display_name": "Python 3",
   "language": "python",
   "name": "python3"
  },
  "language_info": {
   "codemirror_mode": {
    "name": "ipython",
    "version": 3
   },
   "file_extension": ".py",
   "mimetype": "text/x-python",
   "name": "python",
   "nbconvert_exporter": "python",
   "pygments_lexer": "ipython3",
   "version": "3.7.4-final"
  },
  "varInspector": {
   "cols": {
    "lenName": 16,
    "lenType": 16,
    "lenVar": 40
   },
   "kernels_config": {
    "python": {
     "delete_cmd_postfix": "",
     "delete_cmd_prefix": "del ",
     "library": "var_list.py",
     "varRefreshCmd": "print(var_dic_list())"
    },
    "r": {
     "delete_cmd_postfix": ") ",
     "delete_cmd_prefix": "rm(",
     "library": "var_list.r",
     "varRefreshCmd": "cat(var_dic_list()) "
    }
   },
   "types_to_exclude": [
    "module",
    "function",
    "builtin_function_or_method",
    "instance",
    "_Feature"
   ],
   "window_display": false
  }
 },
 "nbformat": 4,
 "nbformat_minor": 2
}