{
 "cells": [
  {
   "cell_type": "markdown",
   "metadata": {},
   "source": [
    "# TouchTerrain standalone in a jupyter notebook\n",
    "Chris Harding, May. 4, 2020 (<charding@iastate.edu>)\n",
    "\n",
    "- this jupyter notebook runs a standalone version of TouchTerrain, similar to `TouchTerrain_standalone.py`\n",
    "- this notebook needs to be run in Python __3.x__  (I'm using 3.7)\n",
    "- to install all required packages, it's best to build and install a package called touchterrain (all lowercase!), which contains all functions needed to run in standalone and in server mode.\n",
    "- you can run pip either in a terminal or inside a jupyer cell (next cell)\n",
    "- to run it in a separate terminal, `cd` to the folder that contains the `setup.py` file (which will contain a folder called touchterrain)\n",
    "    - enter:  `pip install .` \n",
    "    - note the . at the end, which will make pip run the script in setup.py\n",
    "    - this will install all dependencies (including earthengine-api) \n",
    "\n",
    "- on windows, if pip gives you trouble with __gdal__, get the whl file from [here](https://www.lfd.uci.edu/~gohlke/pythonlibs/) and install via `pip install <whl file>`\n",
    "\n",
    "\n"
   ]
  },
  {
   "cell_type": "code",
   "execution_count": 4,
   "metadata": {},
   "outputs": [
    {
     "output_type": "stream",
     "name": "stdout",
     "text": "Processing c:\\users\\charding\\box\\touchterrain\\github\\touchterrain_for_cageo\nRequirement already satisfied: Pillow>=6.0.0 in c:\\users\\charding\\anaconda3\\lib\\site-packages (from touchterrain==0.0.0) (6.2.0)\nRequirement already satisfied: earthengine-api>=0.1.216 in c:\\users\\charding\\anaconda3\\lib\\site-packages\\earthengine_api-0.1.220-py3.7.egg (from touchterrain==0.0.0) (0.1.220)\nRequirement already satisfied: Flask>=1.0.2 in c:\\users\\charding\\anaconda3\\lib\\site-packages (from touchterrain==0.0.0) (1.1.1)\nRequirement already satisfied: oauth2client>=4.1.3 in c:\\users\\charding\\anaconda3\\lib\\site-packages (from touchterrain==0.0.0) (4.1.3)\nRequirement already satisfied: numpy>=1.17 in c:\\users\\charding\\anaconda3\\lib\\site-packages (from touchterrain==0.0.0) (1.18.4)\nRequirement already satisfied: future in c:\\users\\charding\\anaconda3\\lib\\site-packages (from earthengine-api>=0.1.216->touchterrain==0.0.0) (0.17.1)\nRequirement already satisfied: google-cloud-storage in c:\\users\\charding\\anaconda3\\lib\\site-packages (from earthengine-api>=0.1.216->touchterrain==0.0.0) (1.24.1)\nRequirement already satisfied: google-api-python-client in c:\\users\\charding\\anaconda3\\lib\\site-packages (from earthengine-api>=0.1.216->touchterrain==0.0.0) (1.7.11)\nRequirement already satisfied: google-auth>=1.4.1 in c:\\users\\charding\\anaconda3\\lib\\site-packages (from earthengine-api>=0.1.216->touchterrain==0.0.0) (1.10.0)\nRequirement already satisfied: google-auth-httplib2>=0.0.3 in c:\\users\\charding\\anaconda3\\lib\\site-packages (from earthengine-api>=0.1.216->touchterrain==0.0.0) (0.0.3)\nRequirement already satisfied: httplib2<1dev,>=0.9.2 in c:\\users\\charding\\anaconda3\\lib\\site-packages (from earthengine-api>=0.1.216->touchterrain==0.0.0) (0.15.0)\nRequirement already satisfied: httplib2shim in c:\\users\\charding\\anaconda3\\lib\\site-packages\\httplib2shim-0.0.3-py3.7.egg (from earthengine-api>=0.1.216->touchterrain==0.0.0) (0.0.3)\nRequirement already satisfied: six in c:\\users\\charding\\anaconda3\\lib\\site-packages (from earthengine-api>=0.1.216->touchterrain==0.0.0) (1.12.0)\nRequirement already satisfied: Jinja2>=2.10.1 in c:\\users\\charding\\anaconda3\\lib\\site-packages (from Flask>=1.0.2->touchterrain==0.0.0) (2.10.3)\nRequirement already satisfied: itsdangerous>=0.24 in c:\\users\\charding\\anaconda3\\lib\\site-packages (from Flask>=1.0.2->touchterrain==0.0.0) (1.1.0)\nRequirement already satisfied: click>=5.1 in c:\\users\\charding\\anaconda3\\lib\\site-packages (from Flask>=1.0.2->touchterrain==0.0.0) (7.0)\nRequirement already satisfied: Werkzeug>=0.15 in c:\\users\\charding\\anaconda3\\lib\\site-packages (from Flask>=1.0.2->touchterrain==0.0.0) (0.16.0)\nRequirement already satisfied: rsa>=3.1.4 in c:\\users\\charding\\anaconda3\\lib\\site-packages (from oauth2client>=4.1.3->touchterrain==0.0.0) (4.0)\nRequirement already satisfied: pyasn1>=0.1.7 in c:\\users\\charding\\anaconda3\\lib\\site-packages (from oauth2client>=4.1.3->touchterrain==0.0.0) (0.4.8)\nRequirement already satisfied: pyasn1-modules>=0.0.5 in c:\\users\\charding\\anaconda3\\lib\\site-packages (from oauth2client>=4.1.3->touchterrain==0.0.0) (0.2.7)\nRequirement already satisfied: google-cloud-core<2.0dev,>=1.1.0 in c:\\users\\charding\\anaconda3\\lib\\site-packages (from google-cloud-storage->earthengine-api>=0.1.216->touchterrain==0.0.0) (1.1.0)\nRequirement already satisfied: google-resumable-media<0.6dev,>=0.5.0 in c:\\users\\charding\\anaconda3\\lib\\site-packages (from google-cloud-storage->earthengine-api>=0.1.216->touchterrain==0.0.0) (0.5.0)\nRequirement already satisfied: uritemplate<4dev,>=3.0.0 in c:\\users\\charding\\anaconda3\\lib\\site-packages (from google-api-python-client->earthengine-api>=0.1.216->touchterrain==0.0.0) (3.0.1)\nRequirement already satisfied: cachetools<5.0,>=2.0.0 in c:\\users\\charding\\anaconda3\\lib\\site-packages (from google-auth>=1.4.1->earthengine-api>=0.1.216->touchterrain==0.0.0) (4.0.0)\nRequirement already satisfied: setuptools>=40.3.0 in c:\\users\\charding\\anaconda3\\lib\\site-packages (from google-auth>=1.4.1->earthengine-api>=0.1.216->touchterrain==0.0.0) (41.4.0)\nRequirement already satisfied: urllib3 in c:\\users\\charding\\anaconda3\\lib\\site-packages (from httplib2shim->earthengine-api>=0.1.216->touchterrain==0.0.0) (1.24.2)\nRequirement already satisfied: certifi in c:\\users\\charding\\anaconda3\\lib\\site-packages (from httplib2shim->earthengine-api>=0.1.216->touchterrain==0.0.0) (2019.9.11)\nRequirement already satisfied: MarkupSafe>=0.23 in c:\\users\\charding\\anaconda3\\lib\\site-packages (from Jinja2>=2.10.1->Flask>=1.0.2->touchterrain==0.0.0) (1.1.1)\nRequirement already satisfied: google-api-core<2.0.0dev,>=1.14.0 in c:\\users\\charding\\anaconda3\\lib\\site-packages (from google-cloud-core<2.0dev,>=1.1.0->google-cloud-storage->earthengine-api>=0.1.216->touchterrain==0.0.0) (1.15.0)\nRequirement already satisfied: pytz in c:\\users\\charding\\anaconda3\\lib\\site-packages (from google-api-core<2.0.0dev,>=1.14.0->google-cloud-core<2.0dev,>=1.1.0->google-cloud-storage->earthengine-api>=0.1.216->touchterrain==0.0.0) (2019.3)\nRequirement already satisfied: requests<3.0.0dev,>=2.18.0 in c:\\users\\charding\\anaconda3\\lib\\site-packages (from google-api-core<2.0.0dev,>=1.14.0->google-cloud-core<2.0dev,>=1.1.0->google-cloud-storage->earthengine-api>=0.1.216->touchterrain==0.0.0) (2.22.0)\nRequirement already satisfied: protobuf>=3.4.0 in c:\\users\\charding\\anaconda3\\lib\\site-packages (from google-api-core<2.0.0dev,>=1.14.0->google-cloud-core<2.0dev,>=1.1.0->google-cloud-storage->earthengine-api>=0.1.216->touchterrain==0.0.0) (3.11.2)\nRequirement already satisfied: googleapis-common-protos<2.0dev,>=1.6.0 in c:\\users\\charding\\anaconda3\\lib\\site-packages (from google-api-core<2.0.0dev,>=1.14.0->google-cloud-core<2.0dev,>=1.1.0->google-cloud-storage->earthengine-api>=0.1.216->touchterrain==0.0.0) (1.6.0)\nRequirement already satisfied: idna<2.9,>=2.5 in c:\\users\\charding\\anaconda3\\lib\\site-packages (from requests<3.0.0dev,>=2.18.0->google-api-core<2.0.0dev,>=1.14.0->google-cloud-core<2.0dev,>=1.1.0->google-cloud-storage->earthengine-api>=0.1.216->touchterrain==0.0.0) (2.8)\nRequirement already satisfied: chardet<3.1.0,>=3.0.2 in c:\\users\\charding\\anaconda3\\lib\\site-packages (from requests<3.0.0dev,>=2.18.0->google-api-core<2.0.0dev,>=1.14.0->google-cloud-core<2.0dev,>=1.1.0->google-cloud-storage->earthengine-api>=0.1.216->touchterrain==0.0.0) (3.0.4)\nBuilding wheels for collected packages: touchterrain\n  Building wheel for touchterrain (setup.py): started\n  Building wheel for touchterrain (setup.py): finished with status 'done'\n  Created wheel for touchterrain: filename=touchterrain-0.0.0-cp37-none-any.whl size=50011 sha256=8b094252303bae33e77a37f102f6097a7418c373e1f47ebdb154563e64c1ef5c\n  Stored in directory: C:\\Users\\charding\\AppData\\Local\\Temp\\pip-ephem-wheel-cache-4652kjuu\\wheels\\42\\10\\c1\\80516ec9d4570428c64c2e0cc9af2feff0578a420cb0793fe2\nSuccessfully built touchterrain\nInstalling collected packages: touchterrain\n  Found existing installation: touchterrain 0.0.0\n    Uninstalling touchterrain-0.0.0:\n      Successfully uninstalled touchterrain-0.0.0\nSuccessfully installed touchterrain-0.0.0\n"
    }
   ],
   "source": [
    "# if you have already installed touchterrain, skip this cell!\n",
    "\n",
    "# Run this cell (Shift-Enter) to have pip install the touchterrain module and all its dependencies\n",
    "# Warning: this can take a awhile! You may not see any message during the install but you should see the full log when pip is done (or when you got errors)\n",
    "!pip install ."
   ]
  },
  {
   "cell_type": "markdown",
   "metadata": {},
   "source": [
    "if you're never going to use Google Earth Engine's (GEE) online DEM data skip the next section and go to __Running TouchTerrain__\n",
    "\n",
    "\n",
    "### Using Google Earth Engine online DEM rasters \n",
    "\n",
    "- You don't need this if you only want to import terrain from locally stored raster files (geotiffs)!\n",
    "- TouchTerrain can use DEM data from Google Earth Engine (given the corners of the area), but you need to first request a developer account and set up an authentication file\n",
    "- (This dev account is different from your standard Google (Gmail, etc.) account!)\n",
    "- Getting the account is free and entitles you to a modest number of requests (4 per seconds), which are also free. To request got to https://signup.earthengine.google.com/, you'll get and email with a file. \n",
    "- refer to the part __Setting Up Authentication Credentials__ https://developers.google.com/earth-engine/python_install_manual (ignore the stuff above it, as you should already have installed all the needed packages when you installed the earthengine-api package ...)"
   ]
  },
  {
   "cell_type": "code",
   "execution_count": null,
   "metadata": {},
   "outputs": [],
   "source": [
    "# comment out (remove the #) the next line and run this cell to see if you could use ee (Earth Engine)\n",
    "#import ee; ee.Initialize()"
   ]
  },
  {
   "cell_type": "markdown",
   "metadata": {},
   "source": [
    "if you get: \n",
    "\n",
    "`Please authorize access to your Earth Engine account by running earthengine authenticate in your command line, and then retry.`\n",
    "\n",
    "comment out and run the cell below and run it (Shift-Enter) The ! means it will run `earthengine authenticate` inside a OS shell (commandline). \n",
    "\n",
    "- This will asked to to sign in to your Google Account and give you a very long authentication token. \n",
    "- Paste that token in, to your commandline\n",
    "- if correct it will create a folder `.config` in your home folder and create a authentication file (in a earthengine folder)\n",
    "- with this file in place go back to the cell above (`import ee;ee.Initialize()`) and run it again\n",
    "- this time, it should work and you now have access to the Google Earth engine API and it's terrain data (DEM sources)"
   ]
  },
  {
   "cell_type": "markdown",
   "metadata": {},
   "source": [
    "## Running Touchterrain in standalone mode\n",
    "\n",
    "\n",
    "\n",
    "Put your settings into the dictionary below and hit Shift-Enter\n",
    "\n",
    "- for more info on the settings, look at the ReadMe on https://github.com/ChHarding/TouchTerrain_for_CAGEO\n",
    "- note, however, that the settings given below are in Python syntax, whereas the ReadMe describes the JSON syntax used in the config file\n",
    "- both are very similar except for None and True/False\n",
    "- Python vs JSON:\n",
    "\n",
    "```\n",
    "    None  null\n",
    "    True  true\n",
    "    False false\n",
    "```\n",
    "\n"
   ]
  },
  {
   "cell_type": "code",
   "execution_count": 5,
   "metadata": {},
   "outputs": [
    {
     "output_type": "stream",
     "name": "stdout",
     "text": "settings stored, ready to process\n"
    }
   ],
   "source": [
    "args = {\n",
    "    # DEM/Area to print\n",
    "    \n",
    "    # A: use local DEM raster (geotiff)\n",
    "    #\"importedDEM\": \"pyramid.tif\",  # put file in same folder as this notebook file!\n",
    "    \n",
    "    # B: use area and a DEM online source via EarthEngine\n",
    "    \"importedDEM\": None,\n",
    "    \"DEM_name\": \"USGS/NED\",   # DEM source\n",
    "    \"bllat\": 44.50185267072875,   # bottom left corner lat\n",
    "    \"bllon\": -108.25427910156247, # bottom left corner long\n",
    "    \"trlat\": 44.69741706507476,   # top right corner lat\n",
    "    \"trlon\": -107.97962089843747, # top right corner long\n",
    "    \n",
    "    # 3D print parameters\n",
    "    \"tilewidth\": 80,  # width of each tile in mm, (tile height will be auto calculated)\n",
    "    \"printres\": 0.4,  # resolution (horizontal) of 3D printer (= size of one pixel) in mm, \n",
    "                      # should be your nozzle size or just a bit less! \n",
    "                      # Using something like 0.01 will NOT print out a super detailed version \n",
    "                      # as you slicer will remove such fine details anyway! Instead, you'll\n",
    "                      # just wait a long time and get a super large STL file!\n",
    "                      # If you want the original resolution of the DEM, use -1\n",
    "    \n",
    "    \"ntilesx\": 1, # number of tiles in x  \n",
    "    \"ntilesy\": 1, # number of tiles in y    \n",
    "\n",
    "    \"basethick\": 0.5,   # thickness (in mm) of printed base\n",
    "    \"zscale\": 3,      # elevation (vertical) scaling\n",
    "    \"fileformat\": \"STLb\",  # format of 3D model files: \"obj\" wavefront obj (ascii),\n",
    "                           #   \"STLa\" ascii STL or \"STLb\" binary STL.\n",
    "                           #   To export just the (untiled) raster (no mesh), use \"GeoTiff\" \n",
    "    \"zip_file_name\": \"myterrain\",   # base name of zipfile, .zip will be added\n",
    "\n",
    "    \n",
    "    # Expert settings\n",
    "    \"tile_centered\": False, # True-> all tiles are centered around 0/0, False, all tiles \"fit together\"\n",
    "    \"CPU_cores_to_use\" : 0, # 0: use all available cores, None: don't use multiprocessing (single core only)\n",
    "                            # multi-core will be much faster for more than 1 tile \n",
    "    \"max_cells_for_memory_only\" : 5000^2, # if number of raster cells is bigger than this, use temp_files instead of memory.\n",
    "                            # set this very high to force use of memory and lower it if you run out of memory\n",
    "    \"no_bottom\": False,   # omit bottom triangles? Most slicers still work and it makes smaller files\n",
    "    \"no_normal\": True,    # Don't calculate normals for triangles. This is significantly faster but some viewer may need them.\n",
    "    \"bottom_image\": None, # 1 band greyscale image used for bottom relief\n",
    "    \"ignore_leq\": None,   # set all values <= this to NaN so they don't print\n",
    "    \"lower_leq\": None,    # e.g. [0.0, 2.0] values <= 0.0 will be lowered by 2mm in the final model\n",
    "    \"unprojected\": False, # don't project to UTM (for EE rasters only)\n",
    "    \"projection\": None,   # None means use the closest UTM zone. Can be a EPSG number (int!) instead but not all work. \n",
    "    \"only\" : None,        # if not None: list with x and y tile index (1 based) of the only tile to process\n",
    "                          #   e.g. [1,1] will only process the tile in upper left corner, [2,1] the tile right to it, etc.\n",
    "}\n",
    "\n",
    "########################################################\n",
    "\n",
    "# if we want to work on a local raster, get the full pathname to it\n",
    "if args[\"importedDEM\"] != None: \n",
    "    args[\"importedDEM\"]= abspath(args[\"importedDEM\"]) \n",
    "#pprint(args)\n",
    "print(\"settings stored, ready to process\")"
   ]
  },
  {
   "cell_type": "code",
   "execution_count": 6,
   "metadata": {
    "scrolled": true
   },
   "outputs": [
    {
     "output_type": "stream",
     "name": "stdout",
     "text": "Log for creating 3D model tile(s) for  NED_-108.12_44.60 \n \nDEM_name = USGS/NED \ntrlat = 44.69741706507476 \ntrlon = -107.97962089843747 \nbllat = 44.50185267072875 \nbllon = -108.25427910156247 \nprintres = 0.4 \nntilesx = 1 \nntilesy = 1 \ntilewidth = 80 \nbasethick = 0 \nzscale = 3 \nfileformat = STLb \nno_bottom = False \nunprojected = False \nno_normals = True \n\nprocess started: 18:02:58.397544 \n\nRegion (lat/lon):\n   44.69741706507476 -107.97962089843747 (top right)\n   44.50185267072875 -108.25427910156247 (bottom left) \ncenter at [-108.11694999999997, 44.599634867901756]  UTM 13 N ,  EPSG:32613 \nlon/lat size in degrees: [0.274658203125, 0.19556439434600748] \nrequesting 109.03102605841676 m resolution from EarthEngine\nEarth Engine raster: USGS/NED \n USGS National Elevation Dataset 1/3 arc-second \nURL for geotiff is:  https://earthengine.googleapis.com/v1alpha/projects/earthengine-legacy/thumbnails/c4ce9c315271f89e84154724c9a052c0-93af923a811ca0a102df6d05df7b26c2:getPixels \n geotiff size: 0.13457870483398438 Mb \n cell size 109.03102605841676 m, upper left corner (x/y):  241285.66066727627 4954587.886146574 \nfull (untiled) raster (height,width):  (208, 208) float64 \ncell size: 109.03102605841676 m  \nadjusted print res from the requested 0.4 mm to 0.38461538461538464 mm to ensure correct model dimensions \ntotal model size in mm: 80 x 80.0 \nmap scale is 1 : 283480.66775188356 \nelev min/max : 1125.44 to 1578.55\nCells per tile (x/y) 208 x 208 \nusing single-core only \nprocessing tile: 1 1\ntop min/max: 0.5 14.885347430735749\ncreating internal triangle data structure for <_MainProcess(MainProcess, started)>\n10 % <_MainProcess(MainProcess, started)>\n20 % <_MainProcess(MainProcess, started)>\n30 % <_MainProcess(MainProcess, started)>\n40 % <_MainProcess(MainProcess, started)>\n50 % <_MainProcess(MainProcess, started)>\n60 % <_MainProcess(MainProcess, started)>\n70 % <_MainProcess(MainProcess, started)>\n80 % <_MainProcess(MainProcess, started)>\n90 % <_MainProcess(MainProcess, started)>\n100% <_MainProcess(MainProcess, started)> \n\nWriting tile into temp. file c:\\Users\\charding\\Box\\TouchTerrain\\github\\TouchTerrain_for_CAGEO\\tmp\\myterrain11.tmp\nassembling binary stl from 174720 triangles\n10 %, 20 %, 30 %, 40 %, 50 %,60 %, 70 %, 80 %, 90 %,100 %, \n\ntile 1 1 STLb 8.331378936767578 Mb \n\n1 x 1 tiles, tile size 80.00 x 80.00 mm\n \ntile 1 1 : height:  0.5 - 14.885347430735749 mm , file size: 8 Mb \n\ntotal size for all tiles: 8 Mb \nzip finished: 18:03:05.794463\nadded full geotiff as NED_-108.12_44.60.tif \n\nprocessing finished: 18:03:05.806449 \n\nDONE!\n\nCreated zip file tmp\\myterrain.zip 8.47 Mb\n"
    }
   ],
   "source": [
    "import os, sys\n",
    "from pprint import pprint\n",
    "\n",
    "# This will not work unless you have installed touchterrain via pip earlier!\n",
    "from touchterrain.common import TouchTerrainEarthEngine as TouchTerrain\n",
    "\n",
    "\n",
    "# Process the data\n",
    "\n",
    "# This may take some time! You'll see In[*] and some log messages (will also be in the logfile inside the zip)\n",
    "# You may see some red stuff with 10%, etc. - don't worry, that's normal\n",
    "totalsize, full_zip_file_name = TouchTerrain.get_zipped_tiles(**args) # all args are in a dict\n",
    "print(\"\\nDONE!\\n\\nCreated zip file\", full_zip_file_name,  \"%.2f\" % totalsize, \"Mb\")\n",
    "\n",
    "# your zip file will be inside the tmp folder which is inside the same folder your notebook file is in"
   ]
  },
  {
   "cell_type": "code",
   "execution_count": 7,
   "metadata": {
    "scrolled": true
   },
   "outputs": [
    {
     "output_type": "stream",
     "name": "stdout",
     "text": "unzipped files from tmp\\myterrain.zip into the folder tmp\\myterrain\ntmp\\myterrain contains these files:\n  tmp\\myterrain\\logfile.txt\n  tmp\\myterrain\\NED_-108.12_44.60.tif\n  tmp\\myterrain\\NED_-108.12_44.60_tile_1_1.STL\n"
    }
   ],
   "source": [
    "# If you want to unzip the zip file, run this cell\n",
    "# (You will need to do this before using k3d for visualization)\n",
    "\n",
    "import os.path\n",
    "from glob import glob\n",
    "folder, file = os.path.splitext(full_zip_file_name) # get folder of zip file\n",
    "\n",
    "# unzip the zipfile into the folder it's already in\n",
    "import zipfile\n",
    "zip_ref = zipfile.ZipFile(full_zip_file_name, 'r')\n",
    "zip_ref.extractall(folder)\n",
    "zip_ref.close()\n",
    "print (\"unzipped files from\", full_zip_file_name, \"into the folder\", folder)\n",
    "print (folder, \"contains these files:\")\n",
    "for f in glob(folder + os.sep + \"*.*\"): print(\" \", f)"
   ]
  },
  {
   "cell_type": "markdown",
   "metadata": {},
   "source": [
    "## Visualize the STL file(s)\n",
    "\n",
    "- If you want to visualize your model(s), install k3d (`pip install k3d`) and run the cell below\n",
    "- this won't work with OBJ files, as k3d can't read them in.\n",
    "- binary STL should work, but ascii may not.\n"
   ]
  },
  {
   "cell_type": "code",
   "execution_count": null,
   "metadata": {},
   "outputs": [],
   "source": [
    "import k3d\n",
    "\n",
    "# get all stl files in that folder\n",
    "mesh_files = glob(folder + os.sep + \"*.stl\")\n",
    "#print \"in folder\", folder, \"using\", mesh_files\n",
    "\n",
    "plot = k3d.plot()\n",
    "\n",
    "from random import randint\n",
    "for m in mesh_files:\n",
    "    col = (randint(0,255) << 16) + (randint(0,255) << 8) + randint(0,255) # random rgb color as hex\n",
    "    print(\"adding to viewer:\", m, hex(col))\n",
    "    buf = open(m, 'rb').read()\n",
    "    plot += k3d.stl(buf, color=col)\n",
    "plot.display()"
   ]
  },
  {
   "cell_type": "code",
   "execution_count": null,
   "metadata": {},
   "outputs": [],
   "source": []
  }
 ],
 "metadata": {
  "kernelspec": {
   "display_name": "Python 3",
   "language": "python",
   "name": "python3"
  },
  "language_info": {
   "codemirror_mode": {
    "name": "ipython",
    "version": 3
   },
   "file_extension": ".py",
   "mimetype": "text/x-python",
   "name": "python",
   "nbconvert_exporter": "python",
   "pygments_lexer": "ipython3",
   "version": "3.7.4-final"
  },
  "varInspector": {
   "cols": {
    "lenName": 16,
    "lenType": 16,
    "lenVar": 40
   },
   "kernels_config": {
    "python": {
     "delete_cmd_postfix": "",
     "delete_cmd_prefix": "del ",
     "library": "var_list.py",
     "varRefreshCmd": "print(var_dic_list())"
    },
    "r": {
     "delete_cmd_postfix": ") ",
     "delete_cmd_prefix": "rm(",
     "library": "var_list.r",
     "varRefreshCmd": "cat(var_dic_list()) "
    }
   },
   "types_to_exclude": [
    "module",
    "function",
    "builtin_function_or_method",
    "instance",
    "_Feature"
   ],
   "window_display": false
  }
 },
 "nbformat": 4,
 "nbformat_minor": 2
}