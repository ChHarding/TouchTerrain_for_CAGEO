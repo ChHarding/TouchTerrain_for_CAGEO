{
 "cells": [
  {
   "cell_type": "markdown",
   "metadata": {},
   "source": [
    "# TouchTerrain standalone in a jupyter notebook\n",
    "Chris Harding, June 15, 2020 (<charding@iastate.edu>)\n",
    "\n",
    "- this jupyter notebook runs a standalone version of TouchTerrain, similar to `TouchTerrain_standalone.py`\n",
    "- this notebook needs to be run in Python __3.x__  (I'm using 3.7)\n",
    "- Use pip to build and install a package called touchterrain (all lowercase!), which contains all functions needed to run in standalone and in server mode. This will also install all dependencies needed(!)\n",
    "\n",
    "\n",
    "- you can run pip either in a terminal or inside a jupyer cell (next cell)\n",
    "- to run it in a separate terminal, `cd` to the folder that contains the `setup.py` file (which will contain a folder called touchterrain)\n",
    "    - enter:  `pip install .` \n",
    "    - note the . at the end, which will make pip run the script in setup.py\n",
    "    - this will install all dependencies (including earthengine-api) \n",
    "- on Windows, if pip gives you trouble with __gdal__, get the whl file from [here](https://www.lfd.uci.edu/~gohlke/pythonlibs/) and install it separatly with `pip install <whl file>` then go back and try the full install again\n",
    "- on Mac, gdal should be avaiable via [conda-forge](https://anaconda.org/conda-forge/gdal), however I have run into trouble with shared library mismatches which I could not resolve! \n",
    "\n",
    "\n"
   ]
  },
  {
   "cell_type": "code",
   "execution_count": 1,
   "metadata": {},
   "outputs": [
    {
     "name": "stdout",
     "output_type": "stream",
     "text": [
      "Processing /app/TouchTerrain_for_CAGEO\n",
      "Requirement already satisfied: Flask>=1.0.2 in /usr/local/lib/python3.8/dist-packages (from touchterrain==2.5.0) (1.1.2)\n",
      "Requirement already satisfied: Pillow>=6.0.0 in /usr/local/lib/python3.8/dist-packages (from touchterrain==2.5.0) (7.2.0)\n",
      "Requirement already satisfied: earthengine-api>=0.1.216 in /usr/local/lib/python3.8/dist-packages (from touchterrain==2.5.0) (0.1.228)\n",
      "Requirement already satisfied: numpy>=1.17 in /usr/local/lib/python3.8/dist-packages (from touchterrain==2.5.0) (1.19.0)\n",
      "Requirement already satisfied: oauth2client>=4.1.3 in /usr/local/lib/python3.8/dist-packages (from touchterrain==2.5.0) (4.1.3)\n",
      "Requirement already satisfied: Jinja2>=2.10.1 in /usr/local/lib/python3.8/dist-packages (from Flask>=1.0.2->touchterrain==2.5.0) (2.11.2)\n",
      "Requirement already satisfied: Werkzeug>=0.15 in /usr/local/lib/python3.8/dist-packages (from Flask>=1.0.2->touchterrain==2.5.0) (1.0.1)\n",
      "Requirement already satisfied: click>=5.1 in /usr/local/lib/python3.8/dist-packages (from Flask>=1.0.2->touchterrain==2.5.0) (7.1.2)\n",
      "Requirement already satisfied: itsdangerous>=0.24 in /usr/local/lib/python3.8/dist-packages (from Flask>=1.0.2->touchterrain==2.5.0) (1.1.0)\n",
      "Requirement already satisfied: six in /usr/local/lib/python3.8/dist-packages (from earthengine-api>=0.1.216->touchterrain==2.5.0) (1.15.0)\n",
      "Requirement already satisfied: future in /usr/local/lib/python3.8/dist-packages (from earthengine-api>=0.1.216->touchterrain==2.5.0) (0.18.2)\n",
      "Requirement already satisfied: google-auth>=1.4.1 in /usr/local/lib/python3.8/dist-packages (from earthengine-api>=0.1.216->touchterrain==2.5.0) (1.19.2)\n",
      "Requirement already satisfied: google-cloud-storage in /usr/local/lib/python3.8/dist-packages (from earthengine-api>=0.1.216->touchterrain==2.5.0) (1.30.0)\n",
      "Requirement already satisfied: httplib2shim in /usr/local/lib/python3.8/dist-packages (from earthengine-api>=0.1.216->touchterrain==2.5.0) (0.0.3)\n",
      "Requirement already satisfied: httplib2<1dev,>=0.9.2 in /usr/local/lib/python3.8/dist-packages (from earthengine-api>=0.1.216->touchterrain==2.5.0) (0.18.1)\n",
      "Requirement already satisfied: google-api-python-client in /usr/local/lib/python3.8/dist-packages (from earthengine-api>=0.1.216->touchterrain==2.5.0) (1.10.0)\n",
      "Requirement already satisfied: google-auth-httplib2>=0.0.3 in /usr/local/lib/python3.8/dist-packages (from earthengine-api>=0.1.216->touchterrain==2.5.0) (0.0.4)\n",
      "Requirement already satisfied: rsa>=3.1.4 in /usr/local/lib/python3.8/dist-packages (from oauth2client>=4.1.3->touchterrain==2.5.0) (4.6)\n",
      "Requirement already satisfied: pyasn1>=0.1.7 in /usr/local/lib/python3.8/dist-packages (from oauth2client>=4.1.3->touchterrain==2.5.0) (0.4.8)\n",
      "Requirement already satisfied: pyasn1-modules>=0.0.5 in /usr/local/lib/python3.8/dist-packages (from oauth2client>=4.1.3->touchterrain==2.5.0) (0.2.8)\n",
      "Requirement already satisfied: MarkupSafe>=0.23 in /usr/local/lib/python3.8/dist-packages (from Jinja2>=2.10.1->Flask>=1.0.2->touchterrain==2.5.0) (1.1.1)\n",
      "Requirement already satisfied: cachetools<5.0,>=2.0.0 in /usr/local/lib/python3.8/dist-packages (from google-auth>=1.4.1->earthengine-api>=0.1.216->touchterrain==2.5.0) (4.1.1)\n",
      "Requirement already satisfied: setuptools>=40.3.0 in /usr/lib/python3/dist-packages (from google-auth>=1.4.1->earthengine-api>=0.1.216->touchterrain==2.5.0) (45.2.0)\n",
      "Requirement already satisfied: google-resumable-media<2.0dev,>=0.6.0 in /usr/local/lib/python3.8/dist-packages (from google-cloud-storage->earthengine-api>=0.1.216->touchterrain==2.5.0) (0.7.0)\n",
      "Requirement already satisfied: google-cloud-core<2.0dev,>=1.2.0 in /usr/local/lib/python3.8/dist-packages (from google-cloud-storage->earthengine-api>=0.1.216->touchterrain==2.5.0) (1.3.0)\n",
      "Requirement already satisfied: certifi in /usr/local/lib/python3.8/dist-packages (from httplib2shim->earthengine-api>=0.1.216->touchterrain==2.5.0) (2020.6.20)\n",
      "Requirement already satisfied: urllib3 in /usr/local/lib/python3.8/dist-packages (from httplib2shim->earthengine-api>=0.1.216->touchterrain==2.5.0) (1.25.9)\n",
      "Requirement already satisfied: uritemplate<4dev,>=3.0.0 in /usr/local/lib/python3.8/dist-packages (from google-api-python-client->earthengine-api>=0.1.216->touchterrain==2.5.0) (3.0.1)\n",
      "Requirement already satisfied: google-api-core<2dev,>=1.18.0 in /usr/local/lib/python3.8/dist-packages (from google-api-python-client->earthengine-api>=0.1.216->touchterrain==2.5.0) (1.22.0)\n",
      "Requirement already satisfied: google-crc32c>=0.1.0; python_version >= \"3.5\" in /usr/local/lib/python3.8/dist-packages (from google-resumable-media<2.0dev,>=0.6.0->google-cloud-storage->earthengine-api>=0.1.216->touchterrain==2.5.0) (0.1.0)\n",
      "Requirement already satisfied: googleapis-common-protos<2.0dev,>=1.6.0 in /usr/local/lib/python3.8/dist-packages (from google-api-core<2dev,>=1.18.0->google-api-python-client->earthengine-api>=0.1.216->touchterrain==2.5.0) (1.52.0)\n",
      "Requirement already satisfied: pytz in /usr/local/lib/python3.8/dist-packages (from google-api-core<2dev,>=1.18.0->google-api-python-client->earthengine-api>=0.1.216->touchterrain==2.5.0) (2020.1)\n",
      "Requirement already satisfied: protobuf>=3.12.0 in /usr/local/lib/python3.8/dist-packages (from google-api-core<2dev,>=1.18.0->google-api-python-client->earthengine-api>=0.1.216->touchterrain==2.5.0) (3.12.2)\n",
      "Requirement already satisfied: requests<3.0.0dev,>=2.18.0 in /usr/local/lib/python3.8/dist-packages (from google-api-core<2dev,>=1.18.0->google-api-python-client->earthengine-api>=0.1.216->touchterrain==2.5.0) (2.24.0)\n",
      "Requirement already satisfied: cffi>=1.0.0 in /usr/local/lib/python3.8/dist-packages (from google-crc32c>=0.1.0; python_version >= \"3.5\"->google-resumable-media<2.0dev,>=0.6.0->google-cloud-storage->earthengine-api>=0.1.216->touchterrain==2.5.0) (1.14.1)\n",
      "Requirement already satisfied: idna<3,>=2.5 in /usr/local/lib/python3.8/dist-packages (from requests<3.0.0dev,>=2.18.0->google-api-core<2dev,>=1.18.0->google-api-python-client->earthengine-api>=0.1.216->touchterrain==2.5.0) (2.10)\n",
      "Requirement already satisfied: chardet<4,>=3.0.2 in /usr/local/lib/python3.8/dist-packages (from requests<3.0.0dev,>=2.18.0->google-api-core<2dev,>=1.18.0->google-api-python-client->earthengine-api>=0.1.216->touchterrain==2.5.0) (3.0.4)\n",
      "Requirement already satisfied: pycparser in /usr/local/lib/python3.8/dist-packages (from cffi>=1.0.0->google-crc32c>=0.1.0; python_version >= \"3.5\"->google-resumable-media<2.0dev,>=0.6.0->google-cloud-storage->earthengine-api>=0.1.216->touchterrain==2.5.0) (2.20)\n",
      "Building wheels for collected packages: touchterrain\n",
      "  Building wheel for touchterrain (setup.py) ... \u001b[?25ldone\n",
      "\u001b[?25h  Created wheel for touchterrain: filename=touchterrain-2.5.0-py3-none-any.whl size=53158 sha256=1f11ef786cbf330d1b9d062be02591b0434784b71a7ea85c8046918519661d20\n",
      "  Stored in directory: /tmp/pip-ephem-wheel-cache-rcxqn6ba/wheels/88/ad/39/a051be3419397a6f87c5d5e05aca7116397db2ed627532f88a\n",
      "Successfully built touchterrain\n",
      "Installing collected packages: touchterrain\n",
      "  Attempting uninstall: touchterrain\n",
      "    Found existing installation: touchterrain 2.5.0\n",
      "    Uninstalling touchterrain-2.5.0:\n",
      "      Successfully uninstalled touchterrain-2.5.0\n",
      "Successfully installed touchterrain-2.5.0\n"
     ]
    }
   ],
   "source": [
    "# if you have already installed touchterrain, skip this cell!\n",
    "\n",
    "# Run this cell (Shift-Enter) to have pip install the touchterrain module and all its dependencies\n",
    "# Warning: this can take a awhile! You may not see any message during the install but you should see the full log when pip is done (or when you got errors)\n",
    "!pip3 install ."
   ]
  },
  {
   "cell_type": "code",
   "execution_count": 2,
   "metadata": {},
   "outputs": [],
   "source": [
    "# import packages\n",
    "import os, sys\n",
    "from pprint import pprint\n",
    "\n",
    "# earthengine-api and touchterrain should have been installed via pip earlier\n",
    "import ee\n",
    "from touchterrain.common import TouchTerrainEarthEngine as TouchTerrain\n",
    "\n",
    "# if you get errors running this cell, install the requested packages"
   ]
  },
  {
   "cell_type": "markdown",
   "metadata": {},
   "source": [
    "## If you're not going to use Earth Engine's (EE) online DEM data skip the next section and go to _Running Touchterrain standalone_\n"
   ]
  },
  {
   "cell_type": "markdown",
   "metadata": {},
   "source": [
    "### Preparing to use Google Earth Engine online DEM rasters \n",
    "\n",
    "- You don't need this if you only want to import terrain from locally stored raster files (geotiffs)!\n",
    "- TouchTerrain can use DEM data from Google Earth Engine (given the corners of the area), but you need to first request a developer account and set up an authentication file\n",
    "- (This dev account is different from your standard Google (Gmail, etc.) account!)\n",
    "- Getting the account is free and entitles you to a modest number of requests (4 per seconds), which are also free. To request got to https://signup.earthengine.google.com/, you'll get and email with a file. \n",
    "- refer to the part __Setting Up Authentication Credentials__ https://developers.google.com/earth-engine/python_install (ignore the stuff above it, as you should already have installed all the needed packages when you installed the earthengine-api package ...)\n",
    "\n",
    "\n",
    "- we have already imported ee but we will need to run `ee.Initialize()` before using the Earth Engine API. `ee.Initialize()` will try to access a local authentication file, which `ee.Authenticate()` will create\n",
    "- To run `ee.Authenticate()`, comment in and run the next cell, which will end up creating a authentication file for your local system. After you have done this ONCE, you should not have to use `ee.Authenticate()`, so you can comment it out again.\n"
   ]
  },
  {
   "cell_type": "code",
   "execution_count": 3,
   "metadata": {},
   "outputs": [
    {
     "data": {
      "text/html": [
       "<p>To authorize access needed by Earth Engine, open the following\n",
       "        URL in a web browser and follow the instructions:</p>\n",
       "        <p><a href=https://accounts.google.com/o/oauth2/auth?client_id=517222506229-vsmmajv00ul0bs7p89v5m89qs8eb9359.apps.googleusercontent.com&scope=https%3A%2F%2Fwww.googleapis.com%2Fauth%2Fearthengine+https%3A%2F%2Fwww.googleapis.com%2Fauth%2Fdevstorage.full_control&redirect_uri=urn%3Aietf%3Awg%3Aoauth%3A2.0%3Aoob&response_type=code&code_challenge=NT42WYfgU-NGBnSBQJHpbKNMARXd_vJhm7C7Nsq3VrU&code_challenge_method=S256>https://accounts.google.com/o/oauth2/auth?client_id=517222506229-vsmmajv00ul0bs7p89v5m89qs8eb9359.apps.googleusercontent.com&scope=https%3A%2F%2Fwww.googleapis.com%2Fauth%2Fearthengine+https%3A%2F%2Fwww.googleapis.com%2Fauth%2Fdevstorage.full_control&redirect_uri=urn%3Aietf%3Awg%3Aoauth%3A2.0%3Aoob&response_type=code&code_challenge=NT42WYfgU-NGBnSBQJHpbKNMARXd_vJhm7C7Nsq3VrU&code_challenge_method=S256</a></p>\n",
       "        <p>The authorization workflow will generate a code, which you\n",
       "        should paste in the box below</p>\n",
       "        "
      ],
      "text/plain": [
       "<IPython.core.display.HTML object>"
      ]
     },
     "metadata": {},
     "output_type": "display_data"
    },
    {
     "name": "stdout",
     "output_type": "stream",
     "text": [
      "Enter verification code: 4/2QF3MppwictmF5G8FZMDpqMv5Ntu-Zqk6mMhwTE_GtF_6nty2Ejd2r0\n",
      "\n",
      "Successfully saved authorization token.\n"
     ]
    }
   ],
   "source": [
    "ee.Authenticate()"
   ]
  },
  {
   "cell_type": "markdown",
   "metadata": {},
   "source": [
    "- When you use: `ee.Authenticate()` this text should appear and you should be redirected to a webpage:\n",
    "```\n",
    "To authorize access needed by Earth Engine, open the following URL in a web browser and follow the instructions. If the web browser does  not start automatically, please manually browse the URL below.\n",
    "\n",
    "    https://accounts.google.com/o/oauth2/auth?client_id=5172225062...\n",
    "\n",
    "```\n",
    "- the web page will have you select a Google account for use with ee and give you a code\n",
    "- paste in the code: `Enter verification code: <your code>` and hit Enter, you should get `Successfully saved authorization token.`\n",
    "- this will create a folder `.config` in your home folder and create an authentication file (in a earthengine folder) that `ee.Initialize()` will to authenticate you. \n",
    "- You need to run `ee.Initialize()` at least once before you can use online data from Earth Engine"
   ]
  },
  {
   "cell_type": "code",
   "execution_count": 4,
   "metadata": {},
   "outputs": [],
   "source": [
    "# skip this cell (or comment it out) if you do NOT want to use Earth Engine DEM data \n",
    "# but instead only want to use a local geotiff as DEM\n",
    "ee.Initialize()"
   ]
  },
  {
   "cell_type": "markdown",
   "metadata": {},
   "source": [
    "## Running Touchterrain standalone (local and online DEM data)\n",
    "\n",
    "- Put your settings into the dictionary below and hit Shift-Enter\n",
    "\n",
    "\n",
    "- for more info on the settings, look at the ReadMe on https://github.com/ChHarding/TouchTerrain_for_CAGEO\n",
    "- note, however, that the settings given below are in Python syntax, whereas the ReadMe describes the JSON syntax used in the config file\n",
    "- both are very similar except for None and True/False\n",
    "\n",
    "``` \n",
    "    Python:  JSON:\n",
    "    None     null\n",
    "    True     true\n",
    "    False    false\n",
    "```\n",
    "\n"
   ]
  },
  {
   "cell_type": "code",
   "execution_count": 29,
   "metadata": {},
   "outputs": [
    {
     "name": "stdout",
     "output_type": "stream",
     "text": [
      "settings stored, ready to process\n"
     ]
    }
   ],
   "source": [
    "args = {\n",
    "    # DEM/Area to print\n",
    "    \n",
    "    # A: use local DEM raster (geotiff)\n",
    "    #\"importedDEM\": \"stuff/pyramid.tif\",  # path to the geotif in relation to where this notebook sits\n",
    "    \n",
    "    # B: use area and a DEM online source via EarthEngine\n",
    "    \"importedDEM\": None,\n",
    "    \"DEM_name\": \"USGS/NED\",   # DEM source\n",
    "    #\"bllat\": 44.50185267072875,   # bottom left corner lat\n",
    "    #\"bllon\": -108.25427910156247, # bottom left corner long\n",
    "    #\"trlat\": 44.69741706507476,   # top right corner lat\n",
    "    #\"trlon\": -107.97962089843747, # top right corner long\n",
    "    \n",
    "    # Coordinates relevant to GPX test files\n",
    "    \"bllat\": 39.32205105794382,   # bottom left corner lat\n",
    "    \"bllon\": -120.37497608519418, # bottom left corner long\n",
    "    \"trlat\": 39.45763749030933,   # top right corner lat\n",
    "    \"trlon\": -120.2002248034559, # top right corner long\n",
    "    \n",
    "    \n",
    "    \n",
    "    # 3D print parameters\n",
    "    \"tilewidth\": 200,  # width of each tile in mm, (tile height will be auto calculated)\n",
    "    \"printres\": 0.4,  # resolution (horizontal) of 3D printer in mm, should be your NOZZLE size or just a bit less! \n",
    "                      # Using something like 0.01 will NOT print out a super detailed version as you slicer will remove\n",
    "                      # super fine details anyway! You'll just wait a long time and get a super large STL file!\n",
    "    \n",
    "                      # If you want the equivalent of the original resolution of the DEM, use -1 (But again, think of the slicer ...)\n",
    "                      # This will work for any local DEM but only for small online DEMs b/c \n",
    "                      # Google now (Mar. 2020) caps raster downloads at 10 Mega pixels!\n",
    "    \n",
    "    \"ntilesx\": 1, # number of tiles in x  \n",
    "    \"ntilesy\": 1, # number of tiles in y    \n",
    "\n",
    "    \"basethick\": 0.5,   # thickness (in mm) of printed base\n",
    "    \"zscale\": 1.5,      # elevation (vertical) scaling\n",
    "    \"fileformat\": \"STLb\",  # format of 3D model files: \"obj\" wavefront obj (ascii),\n",
    "                           #   \"STLa\" ascii STL or \"STLb\" binary STL.\n",
    "                           #   To export just the (untiled) raster (no mesh), use \"GeoTiff\" \n",
    "    \"zip_file_name\": \"myterrain\",   # base name of zipfile, .zip will be added\n",
    "\n",
    "    \n",
    "    # Expert settings\n",
    "    \"tile_centered\": False, # True-> all tiles are centered around 0/0, False, all tiles \"fit together\"\n",
    "    \"CPU_cores_to_use\" : 0, # 0: use all available cores, None: don't use multiprocessing (single core only)\n",
    "                            # multi-core will be much faster for more than 1 tile \n",
    "    \"max_cells_for_memory_only\" : 5000^2, # if number of raster cells is bigger than this, use temp_files instead of memory.\n",
    "                            # set this very high to force use of memory and lower it if you run out of memory\n",
    "    \"no_bottom\": False,   # omit bottom triangles? Most slicers still work and it makes smaller files\n",
    "    \"no_normal\": True,    # Don't calculate normals for triangles. This is significantly faster but some viewer may need them.\n",
    "    \"bottom_image\": None, # 1 band greyscale image used for bottom relief\n",
    "    \"ignore_leq\": None,   # set all values <= this to NaN so they don't print\n",
    "    \"lower_leq\": None,    # e.g. [0.0, 2.0] values <= 0.0 will be lowered by 2mm in the final model\n",
    "    \"unprojected\": False, # don't project to UTM (for EE rasters only)\n",
    "    \"projection\": None,   # None means use the closest UTM zone. Can be a EPSG number (int!) instead but not all work. \n",
    "    \"only\" : None,        # if not None: list with x and y tile index (1 based) of the only tile to process\n",
    "                          #   e.g. [1,1] will only process the tile in upper left corner, [2,1] the tile right to it, etc.\n",
    "\n",
    "\n",
    "        \n",
    "    # GPX Path Settings\n",
    "    # Plot GPX paths from these files onto the model. \n",
    "    \"importedGPX\" : [\"stuff/gpx-test/DLRTnML.gpx\",\n",
    "                  \"stuff/gpx-test/DonnerToFrog.gpx\",\n",
    "                  \"stuff/gpx-test/CinTwistToFrog.gpx\",\n",
    "                  \"stuff/gpx-test/sagehen.gpx\",\n",
    "                  \"stuff/gpx-test/dd-to-prosser.gpx\",\n",
    "                  \"stuff/gpx-test/alder-creek-to-crabtree-canyon.gpx\",\n",
    "                  \"stuff/gpx-test/ugly-pop-without-solvang.gpx\",\n",
    "                  \"stuff/gpx-test/tomstrail.gpx\"   \n",
    "                 ],\n",
    "   \n",
    "     \"gpxPathHeight\": 40,  #Currently we plot the GPX path by simply adjusting the raster elevation at the specified lat/lon, therefore this is in meters. Negative numbers are ok and put a dent in the mdoel  \n",
    "     \"gpxPixelsBetweenPoints\" : 7, #GPX Files haves a lot of points. A higher number will create more space between lines drawn on the model and can have the effect of making the paths look a bit cleaner \n",
    "     \"gpxPathThickness\" : 1, #Stack paralell lines on either side of primary line to create thickness. A setting of 1 probably looks the best\n",
    "\n",
    "}\n",
    "\n",
    "########################################################\n",
    "\n",
    "# if we want to work on a local raster, get the full pathname to it\n",
    "if args[\"importedDEM\"] != None: \n",
    "    from os.path import abspath\n",
    "    args[\"importedDEM\"]= abspath(args[\"importedDEM\"]) \n",
    "    print(\"reading in local DEM:\", args[\"importedDEM\"])\n",
    "print(\"settings stored, ready to process\")"
   ]
  },
  {
   "cell_type": "code",
   "execution_count": 30,
   "metadata": {},
   "outputs": [
    {
     "data": {
      "text/plain": [
       "<module 'touchterrain.common.TouchTerrainGPX' from '/app/TouchTerrain_for_CAGEO/touchterrain/common/TouchTerrainGPX.py'>"
      ]
     },
     "execution_count": 30,
     "metadata": {},
     "output_type": "execute_result"
    }
   ],
   "source": [
    "# Handy for reloading libraries without restarting jupyter\n",
    "import importlib\n",
    "importlib.reload(TouchTerrain)\n",
    "\n",
    "from touchterrain.common.TouchTerrainGPX import *\n",
    "importlib.reload(TouchTerrainGPX)\n"
   ]
  },
  {
   "cell_type": "code",
   "execution_count": 31,
   "metadata": {
    "scrolled": true
   },
   "outputs": [
    {
     "name": "stdout",
     "output_type": "stream",
     "text": [
      "Log for creating 3D model tile(s) for  NED_-120.29_39.39 \n",
      " \n",
      "DEM_name = USGS/NED \n",
      "trlat = 39.45763749030933 \n",
      "trlon = -120.2002248034559 \n",
      "bllat = 39.32205105794382 \n",
      "bllon = -120.37497608519418 \n",
      "printres = 0.4 \n",
      "ntilesx = 1 \n",
      "ntilesy = 1 \n",
      "tilewidth = 200 \n",
      "basethick = 0 \n",
      "zscale = 1.5 \n",
      "fileformat = STLb \n",
      "no_bottom = False \n",
      "unprojected = False \n",
      "no_normals = True \n",
      "\n",
      "process started: 12:59:33.412709 \n",
      "\n",
      "Region (lat/lon):\n",
      "   39.45763749030933 -120.2002248034559 (top right)\n",
      "   39.32205105794382 -120.37497608519418 (bottom left) \n",
      "center at [-120.28760044432504, 39.389844274126574]  UTM 11 N ,  EPSG:32611 \n",
      "lon/lat size in degrees: [0.17475128173828125, 0.13558643236551404] \n",
      "requesting 30.109297076341452 m resolution from EarthEngine\n",
      "Earth Engine raster: USGS/NED \n",
      " USGS National Elevation Dataset 1/3 arc-second \n",
      "URL for geotiff is:  https://earthengine.googleapis.com/v1alpha/projects/earthengine-legacy/thumbnails/cc3dff01817b8b9985f32373b58f0b02-31a962f2e990320d123cd7a8b97b61cf:getPixels \n",
      " geotiff size: 0.8297586441040039 Mb \n",
      " cell size 30.109297076341452 m, upper left corner (x/y):  209048.8496010387 4373014.08877368 \n",
      "process gpx file: stuff/gpx-test/DLRTnML.gpx \n",
      "process gpx file: stuff/gpx-test/DonnerToFrog.gpx \n",
      "process gpx file: stuff/gpx-test/CinTwistToFrog.gpx \n",
      "process gpx file: stuff/gpx-test/sagehen.gpx \n",
      "process gpx file: stuff/gpx-test/dd-to-prosser.gpx \n",
      "process gpx file: stuff/gpx-test/alder-creek-to-crabtree-canyon.gpx \n",
      "process gpx file: stuff/gpx-test/ugly-pop-without-solvang.gpx \n",
      "process gpx file: stuff/gpx-test/tomstrail.gpx \n",
      "Time to add GPX paths:6.935257196426392 \n",
      "full (untiled) raster (height,width):  (519, 519) float64 \n",
      "cell size: 30.109297076341452 m  \n",
      "adjusted print res from the requested 0.4 mm to 0.3853564547206166 mm to ensure correct model dimensions \n",
      "total model size in mm: 200 x 200.0 \n",
      "map scale is 1 : 78133.62591310607 \n",
      "elev min/max : 1774.64 to 2786.71\n",
      "Cells per tile (x/y) 519 x 519 \n",
      "using single-core only \n",
      "processing tile: 1 1\n",
      "top min/max: 0.5 29.6442313549777\n"
     ]
    },
    {
     "name": "stderr",
     "output_type": "stream",
     "text": [
      "creating internal triangle data structure for <_MainProcess name='MainProcess' parent=None started>\n",
      "10 % <_MainProcess name='MainProcess' parent=None started>\n",
      "20 % <_MainProcess name='MainProcess' parent=None started>\n",
      "30 % <_MainProcess name='MainProcess' parent=None started>\n",
      "40 % <_MainProcess name='MainProcess' parent=None started>\n",
      "50 % <_MainProcess name='MainProcess' parent=None started>\n",
      "60 % <_MainProcess name='MainProcess' parent=None started>\n",
      "70 % <_MainProcess name='MainProcess' parent=None started>\n",
      "80 % <_MainProcess name='MainProcess' parent=None started>\n",
      "90 % <_MainProcess name='MainProcess' parent=None started>\n",
      "100% <_MainProcess name='MainProcess' parent=None started> \n",
      "\n",
      "Writing tile into temp. file /app/TouchTerrain_for_CAGEO/tmp/myterrain11.tmp\n",
      "assembling binary stl from 1081596 triangles\n",
      "10 %, 20 %, 30 %, 40 %, 50 %, 60 %, 70 %, 80 %, 90 %, 100 %, \n",
      "\n",
      "tile 1 1 STLb 51.5745964050293 Mb \n"
     ]
    },
    {
     "name": "stdout",
     "output_type": "stream",
     "text": [
      "\n",
      "1 x 1 tiles, tile size 200.00 x 200.00 mm\n",
      " \n",
      "tile 1 1 : height:  0.5 - 29.6442313549777 mm , file size: 52 Mb \n",
      "\n",
      "total size for all tiles: 52 Mb \n",
      "zip finished: 12:59:56.482738\n",
      "added full geotiff as NED_-120.29_39.39.tif \n",
      "\n",
      "processing finished: 12:59:56.484739 \n",
      "\n",
      "DONE!\n",
      "\n",
      "Created zip file tmp/myterrain.zip 52.40 Mb\n"
     ]
    }
   ],
   "source": [
    "#\n",
    "# Process the data\n",
    "#\n",
    "\n",
    "# This may take some time! You'll see In[*] and some log messages (will also be in the logfile inside the zip)\n",
    "# You may see some red stuff with 10%, etc. - don't worry, that's normal\n",
    "totalsize, full_zip_file_name = TouchTerrain.get_zipped_tiles(**args) # all args are in a dict\n",
    "print(\"\\nDONE!\\n\\nCreated zip file\", full_zip_file_name,  \"%.2f\" % totalsize, \"Mb\")\n",
    "\n",
    "# your zip file will be inside the tmp folder which is inside the same folder your notebook file is in"
   ]
  },
  {
   "cell_type": "code",
   "execution_count": 32,
   "metadata": {
    "scrolled": true
   },
   "outputs": [
    {
     "name": "stdout",
     "output_type": "stream",
     "text": [
      "unzipped files from tmp/myterrain.zip into the folder tmp/myterrain\n",
      "tmp/myterrain contains these files:\n",
      "  tmp/myterrain/NED_-120.29_39.39.tif\n",
      "  tmp/myterrain/NED_-120.29_39.39_tile_1_1.STL\n",
      "  tmp/myterrain/logfile.txt\n"
     ]
    }
   ],
   "source": [
    "# If you want to unzip the zip file, run this cell\n",
    "# (You will need to do this before using k3d for visualization)\n",
    "\n",
    "import os.path\n",
    "from glob import glob\n",
    "folder, file = os.path.splitext(full_zip_file_name) # get folder of zip file\n",
    "\n",
    "# unzip the zipfile into the folder it's already in\n",
    "import zipfile\n",
    "zip_ref = zipfile.ZipFile(full_zip_file_name, 'r')\n",
    "zip_ref.extractall(folder)\n",
    "zip_ref.close()\n",
    "print (\"unzipped files from\", full_zip_file_name, \"into the folder\", folder)\n",
    "print (folder, \"contains these files:\")\n",
    "for f in glob(folder + os.sep + \"*.*\"): print(\" \", f)"
   ]
  },
  {
   "cell_type": "markdown",
   "metadata": {},
   "source": [
    "## Visualize the STL file(s)\n",
    "\n",
    "- If you want to visualize your model(s), install k3d (`pip install k3d`) and run the cell below\n",
    "- this won't work with OBJ files, as k3d can't read them in.\n",
    "- binary STL should work, but ascii may not.\n"
   ]
  },
  {
   "cell_type": "code",
   "execution_count": 33,
   "metadata": {},
   "outputs": [
    {
     "data": {
      "application/vnd.jupyter.widget-view+json": {
       "model_id": "6ef89f43b316490d9e009325cd236e65",
       "version_major": 2,
       "version_minor": 0
      },
      "text/plain": [
       "Output()"
      ]
     },
     "metadata": {},
     "output_type": "display_data"
    }
   ],
   "source": [
    "import k3d\n",
    "\n",
    "# get all stl files in that folder\n",
    "mesh_files = glob(folder + os.sep + \"*.stl\")\n",
    "#print \"in folder\", folder, \"using\", mesh_files\n",
    "\n",
    "plot = k3d.plot()\n",
    "\n",
    "from random import randint\n",
    "for m in mesh_files:\n",
    "    col = (randint(0,255) << 16) + (randint(0,255) << 8) + randint(0,255) # random rgb color as hex\n",
    "    print(\"adding to viewer:\", m, hex(col))\n",
    "    buf = open(m, 'rb').read()\n",
    "    plot += k3d.stl(buf, color=col)\n",
    "plot.display()"
   ]
  },
  {
   "cell_type": "code",
   "execution_count": null,
   "metadata": {},
   "outputs": [],
   "source": []
  }
 ],
 "metadata": {
  "kernelspec": {
   "display_name": "Python 3",
   "language": "python",
   "name": "python3"
  },
  "language_info": {
   "codemirror_mode": {
    "name": "ipython",
    "version": 3
   },
   "file_extension": ".py",
   "mimetype": "text/x-python",
   "name": "python",
   "nbconvert_exporter": "python",
   "pygments_lexer": "ipython3",
   "version": "3.8.2"
  },
  "varInspector": {
   "cols": {
    "lenName": 16,
    "lenType": 16,
    "lenVar": 40
   },
   "kernels_config": {
    "python": {
     "delete_cmd_postfix": "",
     "delete_cmd_prefix": "del ",
     "library": "var_list.py",
     "varRefreshCmd": "print(var_dic_list())"
    },
    "r": {
     "delete_cmd_postfix": ") ",
     "delete_cmd_prefix": "rm(",
     "library": "var_list.r",
     "varRefreshCmd": "cat(var_dic_list()) "
    }
   },
   "types_to_exclude": [
    "module",
    "function",
    "builtin_function_or_method",
    "instance",
    "_Feature"
   ],
   "window_display": false
  }
 },
 "nbformat": 4,
 "nbformat_minor": 2
}
