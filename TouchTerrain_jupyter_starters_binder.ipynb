{
 "cells": [
  {
   "cell_type": "markdown",
   "metadata": {},
   "source": [
    "# TouchTerrain jupyter notebook - starter edition, running on binder(!)\n",
    "Chris Harding, Aug. 15 , 2022 (<charding@iastate.edu>)\n",
    "\n",
    "- This notebook is meant for users who are new to jupyter notebooks and Python. It walks through the process of using TouchTerrain with many more small steps at a slow pace, makes less assumptions and gives more explanations - but will also hide some advanced details.\n",
    "- It assumes that you are using it via binder i.e. `https://mybinder.org/v2/gh/ChHarding/TouchTerrain_for_CAGEO/HEAD` as there are a some special steps to take.\n",
    "- This notebook is a companion to the more generic TouchTerrain_standalone_jupyter_notebook.ipynb. Once you've worked through the starter notebook and are more familiar with TouchTerrain, you may want to graduate to it as it can be more efficient and faster to work with.\n",
    "- Before we start, you may want to rename this notebook (e.g. into TouchTerrain_starter_chris.ipynb) to make sure it doesn't get overwritten by accident. "
   ]
  },
  {
   "cell_type": "markdown",
   "metadata": {},
   "source": [
    "### Preparing to use Google Earth Engine online DEM rasters \n",
    "\n",
    "- *You don't need this if you only want to use terrain data from locally stored raster files (geotiffs) instead of online DEMs!*\n",
    "- TouchTerrain can use DEM data from Google Earth Engine (given the corners of the area), but you need to first set up an earth engine account and create Google cloud project. Note that this includes setting up a charge account, however, you will typically not be charged. \n",
    "\n",
    "!!! MORE DETAILS TO COME !!!\n",
    "\n",
    "\n",
    "- Below is a python *code* cell.\n",
    "- Run the cell  by clicking inside it and pressing Shift + Enter. Or you can hit the green > Run button at the top left.\n",
    "- You wont see any output but you'll see that the braces in `In [ ]` will show a sequential number, which means it's been run.\n",
    "- You will have to run this cell every time to start with a \"fresh\"notebook (either at the very beginning or after you've rebooted the kernel)\n"
   ]
  },
  {
   "cell_type": "code",
   "execution_count": 1,
   "metadata": {},
   "outputs": [],
   "source": [
    "import ee # import module for earthengine-api "
   ]
  },
  {
   "cell_type": "markdown",
   "metadata": {},
   "source": [
    "### Authentication with Earth Engine\n",
    "- the next cell will initiate an authorization with the earth-engine . It's quite painless and uses a browser\n",
    "- remove the leading `#` (uncomment the line) and run it. Make sure there's no space in front of ee!\n",
    "- This text should appear and you should be redirected to a webpage:\n",
    "```\n",
    "To authorize access needed by Earth Engine, open the following URL in a web browser and follow the instructions. If the web browser does  not start automatically, please manually browse the URL below.\n",
    "\n",
    "    https://accounts.google.com/o/oauth2/auth?client_id=5172225062...\n",
    "\n",
    "```\n",
    "- The web page will have you select a Google account for use with Earth Engine and give you a code (copy it)\n",
    "- Paste in your code here: `Enter verification code: <your code>` and hit Enter, you should get `Successfully saved authorization token.`\n",
    "- Important: this needs to be done only once when using Touchterrain. Once done, you should put the `#` back in front of ee.Authenticate() (so the line is `#ee.Authenticate()` again), so you're not running it again by accident. But, if you ever remove or update the image, you'll have to authenticate again."
   ]
  },
  {
   "cell_type": "code",
   "execution_count": null,
   "metadata": {},
   "outputs": [],
   "source": [
    "#ee.Authenticate() # authenticate your earth engine to consume DEM data from Google"
   ]
  },
  {
   "cell_type": "markdown",
   "metadata": {},
   "source": [
    "### Installing additional packages: gdal, geemap and k3d\n",
    "- There are a few additional packages that the notebook version of TouchTerrain needs (i.e. which are not covered by setup.py)\n",
    "- geemap and k3d will install easily with pip\n",
    "- For gdal, we'll use conda, which I cannot get to install with pip\n",
    "\n",
    "\n",
    "#### Installing gdal\n",
    "- run the cell below to install gdal (! means that it will be run inside a OC shell instead of as Python code\n",
    "- Note: On binder we are running a virtual environment called notebook, in which gdal will be install\n",
    "- This includes downloading a bunch of dependencies, will generate a lot of messages (that you can sefely ignore) and may take some time"
   ]
  },
  {
   "cell_type": "code",
   "execution_count": 9,
   "metadata": {},
   "outputs": [
    {
     "name": "stdout",
     "output_type": "stream",
     "text": [
      "Collecting package metadata (current_repodata.json): done\n",
      "Solving environment: done\n",
      "\n",
      "# All requested packages already installed.\n",
      "\n"
     ]
    }
   ],
   "source": [
    "!conda install -y -c conda-forge gdal"
   ]
  },
  {
   "cell_type": "markdown",
   "metadata": {},
   "source": [
    "#### Installing k3d and geemap\n",
    "- run the next line to install k3d and geemap using pip \n",
    "- Again, this may take some time and will show you lots of messages"
   ]
  },
  {
   "cell_type": "code",
   "execution_count": 10,
   "metadata": {},
   "outputs": [
    {
     "name": "stdout",
     "output_type": "stream",
     "text": [
      "Requirement already satisfied: k3d in /srv/conda/envs/notebook/lib/python3.7/site-packages (2.14.5)\n",
      "Requirement already satisfied: geemap in /srv/conda/envs/notebook/lib/python3.7/site-packages (0.16.4)\n",
      "Requirement already satisfied: ipywidgets in /srv/conda/envs/notebook/lib/python3.7/site-packages (from k3d) (7.7.0)\n",
      "Requirement already satisfied: traitlets in /srv/conda/envs/notebook/lib/python3.7/site-packages (from k3d) (5.3.0)\n",
      "Requirement already satisfied: traittypes in /srv/conda/envs/notebook/lib/python3.7/site-packages (from k3d) (0.2.1)\n",
      "Requirement already satisfied: numpy in /srv/conda/envs/notebook/lib/python3.7/site-packages (from k3d) (1.21.6)\n",
      "Requirement already satisfied: msgpack in /srv/conda/envs/notebook/lib/python3.7/site-packages (from k3d) (1.0.4)\n",
      "Requirement already satisfied: ipyevents in /srv/conda/envs/notebook/lib/python3.7/site-packages (from geemap) (2.0.1)\n",
      "Requirement already satisfied: pandas in /srv/conda/envs/notebook/lib/python3.7/site-packages (from geemap) (1.3.5)\n",
      "Requirement already satisfied: ipytree in /srv/conda/envs/notebook/lib/python3.7/site-packages (from geemap) (0.2.1)\n",
      "Requirement already satisfied: ipyfilechooser>=0.6.0 in /srv/conda/envs/notebook/lib/python3.7/site-packages (from geemap) (0.6.0)\n",
      "Requirement already satisfied: python-box in /srv/conda/envs/notebook/lib/python3.7/site-packages (from geemap) (6.0.2)\n",
      "Requirement already satisfied: xyzservices in /srv/conda/envs/notebook/lib/python3.7/site-packages (from geemap) (2022.6.0)\n",
      "Requirement already satisfied: folium>=0.11.0 in /srv/conda/envs/notebook/lib/python3.7/site-packages (from geemap) (0.12.1.post1)\n",
      "Requirement already satisfied: bqplot in /srv/conda/envs/notebook/lib/python3.7/site-packages (from geemap) (0.12.33)\n",
      "Requirement already satisfied: scooby in /srv/conda/envs/notebook/lib/python3.7/site-packages (from geemap) (0.6.0)\n",
      "Requirement already satisfied: ee-extra>=0.0.10 in /srv/conda/envs/notebook/lib/python3.7/site-packages (from geemap) (0.0.14)\n",
      "Requirement already satisfied: geocoder in /srv/conda/envs/notebook/lib/python3.7/site-packages (from geemap) (1.38.1)\n",
      "Requirement already satisfied: earthengine-api>=0.1.304 in /srv/conda/envs/notebook/lib/python3.7/site-packages (from geemap) (0.1.319)\n",
      "Requirement already satisfied: pyshp>=2.1.3 in /srv/conda/envs/notebook/lib/python3.7/site-packages (from geemap) (2.3.1)\n",
      "Requirement already satisfied: gdown in /srv/conda/envs/notebook/lib/python3.7/site-packages (from geemap) (4.5.1)\n",
      "Requirement already satisfied: geeadd>=0.5.1 in /srv/conda/envs/notebook/lib/python3.7/site-packages (from geemap) (0.5.5)\n",
      "Requirement already satisfied: pycrs in /srv/conda/envs/notebook/lib/python3.7/site-packages (from geemap) (1.0.2)\n",
      "Requirement already satisfied: matplotlib in /srv/conda/envs/notebook/lib/python3.7/site-packages (from geemap) (3.5.3)\n",
      "Requirement already satisfied: ffmpeg-python in /srv/conda/envs/notebook/lib/python3.7/site-packages (from geemap) (0.2.0)\n",
      "Requirement already satisfied: sankee>=0.1.0 in /srv/conda/envs/notebook/lib/python3.7/site-packages (from geemap) (0.2.0)\n",
      "Requirement already satisfied: ipyleaflet>=0.17.0 in /srv/conda/envs/notebook/lib/python3.7/site-packages (from geemap) (0.17.0)\n",
      "Requirement already satisfied: colour in /srv/conda/envs/notebook/lib/python3.7/site-packages (from geemap) (0.1.5)\n",
      "Requirement already satisfied: pillow in /srv/conda/envs/notebook/lib/python3.7/site-packages (from geemap) (9.2.0)\n",
      "Requirement already satisfied: whiteboxgui>=0.6.0 in /srv/conda/envs/notebook/lib/python3.7/site-packages (from geemap) (0.7.0)\n",
      "Requirement already satisfied: geojson in /srv/conda/envs/notebook/lib/python3.7/site-packages (from geemap) (2.5.0)\n",
      "Requirement already satisfied: jupyterlab>=3 in /srv/conda/envs/notebook/lib/python3.7/site-packages (from geemap) (3.3.3)\n",
      "Requirement already satisfied: google-auth-httplib2>=0.0.3 in /srv/conda/envs/notebook/lib/python3.7/site-packages (from earthengine-api>=0.1.304->geemap) (0.1.0)\n",
      "Requirement already satisfied: future in /srv/conda/envs/notebook/lib/python3.7/site-packages (from earthengine-api>=0.1.304->geemap) (0.18.2)\n",
      "Requirement already satisfied: google-api-python-client<2,>=1.12.1 in /srv/conda/envs/notebook/lib/python3.7/site-packages (from earthengine-api>=0.1.304->geemap) (1.12.8)\n",
      "Requirement already satisfied: httplib2shim in /srv/conda/envs/notebook/lib/python3.7/site-packages (from earthengine-api>=0.1.304->geemap) (0.0.3)\n",
      "Requirement already satisfied: httplib2<1dev,>=0.9.2 in /srv/conda/envs/notebook/lib/python3.7/site-packages (from earthengine-api>=0.1.304->geemap) (0.20.4)\n",
      "Requirement already satisfied: google-auth>=1.4.1 in /srv/conda/envs/notebook/lib/python3.7/site-packages (from earthengine-api>=0.1.304->geemap) (1.35.0)\n",
      "Requirement already satisfied: six in /srv/conda/envs/notebook/lib/python3.7/site-packages (from earthengine-api>=0.1.304->geemap) (1.16.0)\n",
      "Requirement already satisfied: google-cloud-storage in /srv/conda/envs/notebook/lib/python3.7/site-packages (from earthengine-api>=0.1.304->geemap) (2.5.0)\n",
      "Requirement already satisfied: branca>=0.3.0 in /srv/conda/envs/notebook/lib/python3.7/site-packages (from folium>=0.11.0->geemap) (0.5.0)\n",
      "Requirement already satisfied: jinja2>=2.9 in /srv/conda/envs/notebook/lib/python3.7/site-packages (from folium>=0.11.0->geemap) (3.1.2)\n",
      "Requirement already satisfied: requests in /srv/conda/envs/notebook/lib/python3.7/site-packages (from folium>=0.11.0->geemap) (2.28.1)\n",
      "Requirement already satisfied: beautifulsoup4>=4.9.0 in /srv/conda/envs/notebook/lib/python3.7/site-packages (from geeadd>=0.5.1->geemap) (4.11.1)\n",
      "Requirement already satisfied: logzero>=1.5.0 in /srv/conda/envs/notebook/lib/python3.7/site-packages (from geeadd>=0.5.1->geemap) (1.7.0)\n",
      "Requirement already satisfied: ipython>=4.0.0 in /srv/conda/envs/notebook/lib/python3.7/site-packages (from ipywidgets->k3d) (7.33.0)\n",
      "Requirement already satisfied: ipython-genutils~=0.2.0 in /srv/conda/envs/notebook/lib/python3.7/site-packages (from ipywidgets->k3d) (0.2.0)\n",
      "Requirement already satisfied: ipykernel>=4.5.1 in /srv/conda/envs/notebook/lib/python3.7/site-packages (from ipywidgets->k3d) (6.15.1)\n",
      "Requirement already satisfied: widgetsnbextension~=3.6.0 in /srv/conda/envs/notebook/lib/python3.7/site-packages (from ipywidgets->k3d) (3.6.1)\n",
      "Requirement already satisfied: nbformat>=4.2.0 in /srv/conda/envs/notebook/lib/python3.7/site-packages (from ipywidgets->k3d) (5.4.0)\n",
      "Requirement already satisfied: jupyterlab-widgets>=1.0.0 in /srv/conda/envs/notebook/lib/python3.7/site-packages (from ipywidgets->k3d) (1.1.1)\n",
      "Requirement already satisfied: jupyter-server~=1.4 in /srv/conda/envs/notebook/lib/python3.7/site-packages (from jupyterlab>=3->geemap) (1.18.1)\n",
      "Requirement already satisfied: nbclassic~=0.2 in /srv/conda/envs/notebook/lib/python3.7/site-packages (from jupyterlab>=3->geemap) (0.4.3)\n",
      "Requirement already satisfied: tornado>=6.1.0 in /srv/conda/envs/notebook/lib/python3.7/site-packages (from jupyterlab>=3->geemap) (6.2)\n",
      "Requirement already satisfied: jupyterlab-server~=2.10 in /srv/conda/envs/notebook/lib/python3.7/site-packages (from jupyterlab>=3->geemap) (2.15.0)\n",
      "Requirement already satisfied: jupyter-core in /srv/conda/envs/notebook/lib/python3.7/site-packages (from jupyterlab>=3->geemap) (4.11.1)\n",
      "Requirement already satisfied: packaging in /srv/conda/envs/notebook/lib/python3.7/site-packages (from jupyterlab>=3->geemap) (21.3)\n",
      "Requirement already satisfied: plotly>=5.2.2 in /srv/conda/envs/notebook/lib/python3.7/site-packages (from sankee>=0.1.0->geemap) (5.10.0)\n",
      "Requirement already satisfied: whitebox in /srv/conda/envs/notebook/lib/python3.7/site-packages (from whiteboxgui>=0.6.0->geemap) (2.1.4)\n",
      "Requirement already satisfied: python-dateutil>=2.7.3 in /srv/conda/envs/notebook/lib/python3.7/site-packages (from pandas->geemap) (2.8.2)\n",
      "Requirement already satisfied: pytz>=2017.3 in /srv/conda/envs/notebook/lib/python3.7/site-packages (from pandas->geemap) (2022.1)\n",
      "Requirement already satisfied: tqdm in /srv/conda/envs/notebook/lib/python3.7/site-packages (from gdown->geemap) (4.64.0)\n",
      "Requirement already satisfied: filelock in /srv/conda/envs/notebook/lib/python3.7/site-packages (from gdown->geemap) (3.8.0)\n",
      "Requirement already satisfied: ratelim in /srv/conda/envs/notebook/lib/python3.7/site-packages (from geocoder->geemap) (0.1.6)\n",
      "Requirement already satisfied: click in /srv/conda/envs/notebook/lib/python3.7/site-packages (from geocoder->geemap) (8.1.3)\n",
      "Requirement already satisfied: fonttools>=4.22.0 in /srv/conda/envs/notebook/lib/python3.7/site-packages (from matplotlib->geemap) (4.35.0)\n",
      "Requirement already satisfied: cycler>=0.10 in /srv/conda/envs/notebook/lib/python3.7/site-packages (from matplotlib->geemap) (0.11.0)\n",
      "Requirement already satisfied: pyparsing>=2.2.1 in /srv/conda/envs/notebook/lib/python3.7/site-packages (from matplotlib->geemap) (3.0.9)\n",
      "Requirement already satisfied: kiwisolver>=1.0.1 in /srv/conda/envs/notebook/lib/python3.7/site-packages (from matplotlib->geemap) (1.4.4)\n",
      "Requirement already satisfied: soupsieve>1.2 in /srv/conda/envs/notebook/lib/python3.7/site-packages (from beautifulsoup4>=4.9.0->geeadd>=0.5.1->geemap) (2.3.2.post1)\n",
      "Requirement already satisfied: google-api-core<2dev,>=1.21.0 in /srv/conda/envs/notebook/lib/python3.7/site-packages (from google-api-python-client<2,>=1.12.1->earthengine-api>=0.1.304->geemap) (1.32.0)\n",
      "Requirement already satisfied: uritemplate<4dev,>=3.0.0 in /srv/conda/envs/notebook/lib/python3.7/site-packages (from google-api-python-client<2,>=1.12.1->earthengine-api>=0.1.304->geemap) (3.0.1)\n",
      "Requirement already satisfied: cachetools<5.0,>=2.0.0 in /srv/conda/envs/notebook/lib/python3.7/site-packages (from google-auth>=1.4.1->earthengine-api>=0.1.304->geemap) (4.2.4)\n",
      "Requirement already satisfied: pyasn1-modules>=0.2.1 in /srv/conda/envs/notebook/lib/python3.7/site-packages (from google-auth>=1.4.1->earthengine-api>=0.1.304->geemap) (0.2.8)\n",
      "Requirement already satisfied: setuptools>=40.3.0 in /srv/conda/envs/notebook/lib/python3.7/site-packages (from google-auth>=1.4.1->earthengine-api>=0.1.304->geemap) (63.3.0)\n",
      "Requirement already satisfied: rsa<5,>=3.1.4 in /srv/conda/envs/notebook/lib/python3.7/site-packages (from google-auth>=1.4.1->earthengine-api>=0.1.304->geemap) (4.9)\n",
      "Requirement already satisfied: jupyter-client>=6.1.12 in /srv/conda/envs/notebook/lib/python3.7/site-packages (from ipykernel>=4.5.1->ipywidgets->k3d) (7.3.4)\n",
      "Requirement already satisfied: pyzmq>=17 in /srv/conda/envs/notebook/lib/python3.7/site-packages (from ipykernel>=4.5.1->ipywidgets->k3d) (23.2.0)\n",
      "Requirement already satisfied: debugpy>=1.0 in /srv/conda/envs/notebook/lib/python3.7/site-packages (from ipykernel>=4.5.1->ipywidgets->k3d) (1.6.0)\n",
      "Requirement already satisfied: matplotlib-inline>=0.1 in /srv/conda/envs/notebook/lib/python3.7/site-packages (from ipykernel>=4.5.1->ipywidgets->k3d) (0.1.3)\n",
      "Requirement already satisfied: nest-asyncio in /srv/conda/envs/notebook/lib/python3.7/site-packages (from ipykernel>=4.5.1->ipywidgets->k3d) (1.5.5)\n",
      "Requirement already satisfied: psutil in /srv/conda/envs/notebook/lib/python3.7/site-packages (from ipykernel>=4.5.1->ipywidgets->k3d) (5.9.1)\n",
      "Requirement already satisfied: prompt-toolkit!=3.0.0,!=3.0.1,<3.1.0,>=2.0.0 in /srv/conda/envs/notebook/lib/python3.7/site-packages (from ipython>=4.0.0->ipywidgets->k3d) (3.0.30)\n",
      "Requirement already satisfied: backcall in /srv/conda/envs/notebook/lib/python3.7/site-packages (from ipython>=4.0.0->ipywidgets->k3d) (0.2.0)\n",
      "Requirement already satisfied: decorator in /srv/conda/envs/notebook/lib/python3.7/site-packages (from ipython>=4.0.0->ipywidgets->k3d) (5.1.1)\n",
      "Requirement already satisfied: pygments in /srv/conda/envs/notebook/lib/python3.7/site-packages (from ipython>=4.0.0->ipywidgets->k3d) (2.12.0)\n",
      "Requirement already satisfied: jedi>=0.16 in /srv/conda/envs/notebook/lib/python3.7/site-packages (from ipython>=4.0.0->ipywidgets->k3d) (0.18.1)\n",
      "Requirement already satisfied: pexpect>4.3 in /srv/conda/envs/notebook/lib/python3.7/site-packages (from ipython>=4.0.0->ipywidgets->k3d) (4.8.0)\n",
      "Requirement already satisfied: pickleshare in /srv/conda/envs/notebook/lib/python3.7/site-packages (from ipython>=4.0.0->ipywidgets->k3d) (0.7.5)\n",
      "Requirement already satisfied: MarkupSafe>=2.0 in /srv/conda/envs/notebook/lib/python3.7/site-packages (from jinja2>=2.9->folium>=0.11.0->geemap) (2.1.1)\n",
      "Requirement already satisfied: Send2Trash in /srv/conda/envs/notebook/lib/python3.7/site-packages (from jupyter-server~=1.4->jupyterlab>=3->geemap) (1.8.0)\n",
      "Requirement already satisfied: anyio<4,>=3.1.0 in /srv/conda/envs/notebook/lib/python3.7/site-packages (from jupyter-server~=1.4->jupyterlab>=3->geemap) (3.6.1)\n",
      "Requirement already satisfied: prometheus-client in /srv/conda/envs/notebook/lib/python3.7/site-packages (from jupyter-server~=1.4->jupyterlab>=3->geemap) (0.14.1)\n",
      "Requirement already satisfied: terminado>=0.8.3 in /srv/conda/envs/notebook/lib/python3.7/site-packages (from jupyter-server~=1.4->jupyterlab>=3->geemap) (0.15.0)\n",
      "Requirement already satisfied: nbconvert>=6.4.4 in /srv/conda/envs/notebook/lib/python3.7/site-packages (from jupyter-server~=1.4->jupyterlab>=3->geemap) (6.5.0)\n",
      "Requirement already satisfied: websocket-client in /srv/conda/envs/notebook/lib/python3.7/site-packages (from jupyter-server~=1.4->jupyterlab>=3->geemap) (1.3.3)\n",
      "Requirement already satisfied: argon2-cffi in /srv/conda/envs/notebook/lib/python3.7/site-packages (from jupyter-server~=1.4->jupyterlab>=3->geemap) (21.3.0)\n",
      "Requirement already satisfied: babel in /srv/conda/envs/notebook/lib/python3.7/site-packages (from jupyterlab-server~=2.10->jupyterlab>=3->geemap) (2.10.3)\n",
      "Requirement already satisfied: jsonschema>=3.0.1 in /srv/conda/envs/notebook/lib/python3.7/site-packages (from jupyterlab-server~=2.10->jupyterlab>=3->geemap) (4.9.0)\n",
      "Requirement already satisfied: json5 in /srv/conda/envs/notebook/lib/python3.7/site-packages (from jupyterlab-server~=2.10->jupyterlab>=3->geemap) (0.9.5)\n",
      "Requirement already satisfied: importlib-metadata>=3.6 in /srv/conda/envs/notebook/lib/python3.7/site-packages (from jupyterlab-server~=2.10->jupyterlab>=3->geemap) (4.11.4)\n",
      "Requirement already satisfied: typing-extensions in /srv/conda/envs/notebook/lib/python3.7/site-packages (from kiwisolver>=1.0.1->matplotlib->geemap) (4.3.0)\n",
      "Requirement already satisfied: notebook-shim>=0.1.0 in /srv/conda/envs/notebook/lib/python3.7/site-packages (from nbclassic~=0.2->jupyterlab>=3->geemap) (0.1.0)\n",
      "Requirement already satisfied: fastjsonschema in /srv/conda/envs/notebook/lib/python3.7/site-packages (from nbformat>=4.2.0->ipywidgets->k3d) (2.16.1)\n",
      "Requirement already satisfied: tenacity>=6.2.0 in /srv/conda/envs/notebook/lib/python3.7/site-packages (from plotly>=5.2.2->sankee>=0.1.0->geemap) (8.0.1)\n",
      "Requirement already satisfied: charset-normalizer<3,>=2 in /srv/conda/envs/notebook/lib/python3.7/site-packages (from requests->folium>=0.11.0->geemap) (2.1.0)\n",
      "Requirement already satisfied: idna<4,>=2.5 in /srv/conda/envs/notebook/lib/python3.7/site-packages (from requests->folium>=0.11.0->geemap) (3.3)\n",
      "Requirement already satisfied: certifi>=2017.4.17 in /srv/conda/envs/notebook/lib/python3.7/site-packages (from requests->folium>=0.11.0->geemap) (2022.6.15)\n",
      "Requirement already satisfied: urllib3<1.27,>=1.21.1 in /srv/conda/envs/notebook/lib/python3.7/site-packages (from requests->folium>=0.11.0->geemap) (1.26.11)\n",
      "Requirement already satisfied: notebook>=4.4.1 in /srv/conda/envs/notebook/lib/python3.7/site-packages (from widgetsnbextension~=3.6.0->ipywidgets->k3d) (6.4.10)\n",
      "Requirement already satisfied: google-cloud-core<3.0dev,>=2.3.0 in /srv/conda/envs/notebook/lib/python3.7/site-packages (from google-cloud-storage->earthengine-api>=0.1.304->geemap) (2.3.2)\n",
      "Requirement already satisfied: google-resumable-media>=2.3.2 in /srv/conda/envs/notebook/lib/python3.7/site-packages (from google-cloud-storage->earthengine-api>=0.1.304->geemap) (2.3.3)\n",
      "Requirement already satisfied: PySocks!=1.5.7,>=1.5.6 in /srv/conda/envs/notebook/lib/python3.7/site-packages (from requests->folium>=0.11.0->geemap) (1.7.1)\n",
      "Requirement already satisfied: sniffio>=1.1 in /srv/conda/envs/notebook/lib/python3.7/site-packages (from anyio<4,>=3.1.0->jupyter-server~=1.4->jupyterlab>=3->geemap) (1.2.0)\n",
      "Requirement already satisfied: protobuf<4.0.0dev,>=3.12.0 in /srv/conda/envs/notebook/lib/python3.7/site-packages (from google-api-core<2dev,>=1.21.0->google-api-python-client<2,>=1.12.1->earthengine-api>=0.1.304->geemap) (3.20.1)\n",
      "Requirement already satisfied: googleapis-common-protos<2.0dev,>=1.6.0 in /srv/conda/envs/notebook/lib/python3.7/site-packages (from google-api-core<2dev,>=1.21.0->google-api-python-client<2,>=1.12.1->earthengine-api>=0.1.304->geemap) (1.56.4)\n",
      "Requirement already satisfied: google-crc32c<2.0dev,>=1.0 in /srv/conda/envs/notebook/lib/python3.7/site-packages (from google-resumable-media>=2.3.2->google-cloud-storage->earthengine-api>=0.1.304->geemap) (1.3.0)\n",
      "Requirement already satisfied: zipp>=0.5 in /srv/conda/envs/notebook/lib/python3.7/site-packages (from importlib-metadata>=3.6->jupyterlab-server~=2.10->jupyterlab>=3->geemap) (3.8.0)\n",
      "Requirement already satisfied: parso<0.9.0,>=0.8.0 in /srv/conda/envs/notebook/lib/python3.7/site-packages (from jedi>=0.16->ipython>=4.0.0->ipywidgets->k3d) (0.8.3)\n",
      "Requirement already satisfied: attrs>=17.4.0 in /srv/conda/envs/notebook/lib/python3.7/site-packages (from jsonschema>=3.0.1->jupyterlab-server~=2.10->jupyterlab>=3->geemap) (22.1.0)\n",
      "Requirement already satisfied: pkgutil-resolve-name>=1.3.10 in /srv/conda/envs/notebook/lib/python3.7/site-packages (from jsonschema>=3.0.1->jupyterlab-server~=2.10->jupyterlab>=3->geemap) (1.3.10)\n",
      "Requirement already satisfied: pyrsistent!=0.17.0,!=0.17.1,!=0.17.2,>=0.14.0 in /srv/conda/envs/notebook/lib/python3.7/site-packages (from jsonschema>=3.0.1->jupyterlab-server~=2.10->jupyterlab>=3->geemap) (0.18.1)\n",
      "Requirement already satisfied: importlib-resources>=1.4.0 in /srv/conda/envs/notebook/lib/python3.7/site-packages (from jsonschema>=3.0.1->jupyterlab-server~=2.10->jupyterlab>=3->geemap) (5.9.0)\n",
      "Requirement already satisfied: entrypoints in /srv/conda/envs/notebook/lib/python3.7/site-packages (from jupyter-client>=6.1.12->ipykernel>=4.5.1->ipywidgets->k3d) (0.4)\n",
      "Requirement already satisfied: mistune<2,>=0.8.1 in /srv/conda/envs/notebook/lib/python3.7/site-packages (from nbconvert>=6.4.4->jupyter-server~=1.4->jupyterlab>=3->geemap) (0.8.4)\n",
      "Requirement already satisfied: pandocfilters>=1.4.1 in /srv/conda/envs/notebook/lib/python3.7/site-packages (from nbconvert>=6.4.4->jupyter-server~=1.4->jupyterlab>=3->geemap) (1.5.0)\n",
      "Requirement already satisfied: tinycss2 in /srv/conda/envs/notebook/lib/python3.7/site-packages (from nbconvert>=6.4.4->jupyter-server~=1.4->jupyterlab>=3->geemap) (1.1.1)\n",
      "Requirement already satisfied: bleach in /srv/conda/envs/notebook/lib/python3.7/site-packages (from nbconvert>=6.4.4->jupyter-server~=1.4->jupyterlab>=3->geemap) (5.0.1)\n",
      "Requirement already satisfied: defusedxml in /srv/conda/envs/notebook/lib/python3.7/site-packages (from nbconvert>=6.4.4->jupyter-server~=1.4->jupyterlab>=3->geemap) (0.7.1)\n",
      "Requirement already satisfied: nbclient>=0.5.0 in /srv/conda/envs/notebook/lib/python3.7/site-packages (from nbconvert>=6.4.4->jupyter-server~=1.4->jupyterlab>=3->geemap) (0.6.6)\n",
      "Requirement already satisfied: jupyterlab-pygments in /srv/conda/envs/notebook/lib/python3.7/site-packages (from nbconvert>=6.4.4->jupyter-server~=1.4->jupyterlab>=3->geemap) (0.2.2)\n",
      "Requirement already satisfied: ptyprocess>=0.5 in /srv/conda/envs/notebook/lib/python3.7/site-packages (from pexpect>4.3->ipython>=4.0.0->ipywidgets->k3d) (0.7.0)\n",
      "Requirement already satisfied: wcwidth in /srv/conda/envs/notebook/lib/python3.7/site-packages (from prompt-toolkit!=3.0.0,!=3.0.1,<3.1.0,>=2.0.0->ipython>=4.0.0->ipywidgets->k3d) (0.2.5)\n",
      "Requirement already satisfied: pyasn1<0.5.0,>=0.4.6 in /srv/conda/envs/notebook/lib/python3.7/site-packages (from pyasn1-modules>=0.2.1->google-auth>=1.4.1->earthengine-api>=0.1.304->geemap) (0.4.8)\n",
      "Requirement already satisfied: argon2-cffi-bindings in /srv/conda/envs/notebook/lib/python3.7/site-packages (from argon2-cffi->jupyter-server~=1.4->jupyterlab>=3->geemap) (21.2.0)\n",
      "Requirement already satisfied: cffi>=1.0.1 in /srv/conda/envs/notebook/lib/python3.7/site-packages (from argon2-cffi-bindings->argon2-cffi->jupyter-server~=1.4->jupyterlab>=3->geemap) (1.15.1)\n",
      "Requirement already satisfied: webencodings in /srv/conda/envs/notebook/lib/python3.7/site-packages (from bleach->nbconvert>=6.4.4->jupyter-server~=1.4->jupyterlab>=3->geemap) (0.5.1)\n",
      "Requirement already satisfied: pycparser in /srv/conda/envs/notebook/lib/python3.7/site-packages (from cffi>=1.0.1->argon2-cffi-bindings->argon2-cffi->jupyter-server~=1.4->jupyterlab>=3->geemap) (2.21)\n"
     ]
    }
   ],
   "source": [
    "!pip install k3d geemap "
   ]
  },
  {
   "cell_type": "markdown",
   "metadata": {},
   "source": [
    "### Importing python packages\n",
    "- Run the next cell, it'll import the required packages into Python, including Touchterrain\n",
    "- The earth engine package you imported and authorized earlier, will be initialized here. You should see `EE init() worked with .config/earthengine/credentials`\n"
   ]
  },
  {
   "cell_type": "code",
   "execution_count": 11,
   "metadata": {
    "tags": []
   },
   "outputs": [],
   "source": [
    "# import packages\n",
    "import os.path\n",
    "from glob import glob\n",
    "import k3d\n",
    "from random import randint\n",
    "from shutil import rmtree\n",
    "import zipfile\n",
    "from geojson import Polygon\n",
    "import geemap\n",
    "from touchterrain.common import TouchTerrainEarthEngine as TouchTerrain\n",
    "from touchterrain.common.TouchTerrainGPX import *\n",
    "args = TouchTerrain.initial_args # default args\n"
   ]
  },
  {
   "cell_type": "markdown",
   "metadata": {},
   "source": [
    "## Define the values for processing settings\n",
    "- We now need to define the processing settings for the 3D model we want to create. Unlike the web app, they need to be set via Python variables.\n",
    "- The variable `args` will hold all processing settings. The __name__ of a setting  will be between [] and inside double quotes, the setting's __value__ will be to the right of the = . The value can be a number (120 or 0.4), a string (\"STLb\") or the special value `None`.\n",
    "- Example: `args[\"tilewidth\"] = 120`     will define the value of the setting named `tilewidth` to be 120\n",
    "\n",
    "### Comments\n",
    "- In Python, anything to the right of a `#` will be ignored.\n",
    "- You will often need comment out or uncomment a line of Python code.\n",
    "- A line starting with a `#` (no spaces before it) is said to be commented out, it will be entirely ignored. This a useful to termporarily deactivate the line and re-activate it again later.\n",
    "- To uncomment a line means to remove the leading `#`, again leaving no spaces before the first actual code letter. This makes the line valid code again.\n",
    "\n",
    "- Example of commenting out a line of code and uncommenting it properly:\n",
    "```\n",
    "print(123)\n",
    "#print(123)\n",
    "print(123)\n",
    "```\n",
    "- Examples of bad commenting with a leading space. I'm using an underscore here for better visibility.\n",
    "```\n",
    "_#print(123)\n",
    "_print(123)\n",
    "```"
   ]
  },
  {
   "cell_type": "markdown",
   "metadata": {},
   "source": [
    "### Use a locally stored geotiff DEM file instead of an online DEM\n",
    "__If you don't plan to use a local geotiff and instead want to use an online DEM, skip this cell and go to the next__\n",
    "- You may want create a terrain model from a geotiff DEM file that you've downloaded or created via a GIS. As TouchTerrain needs to import this file during processing, you first need to copy (upload) it via the jupyter file manager (tree).\n",
    "- Go to the same folder as your .ipynb notebook file and hit _Upload_ in the upper right corner. This will copy a geotiff from your native OS into the container.\n",
    "- Alternatively, you could make a separate data folder first, again in the  same folder as your .ipynb notebook file, something like mydata. Navigate into this folder and upload your geotiff(s) there\n",
    "- The folder called __stuff__ contains a very small example geotiff file called __pyramid.tif__. From the folder you notebook is in, the path to this file is therefore __stuff/pyramid.tif__ (Unix uses a /, not a \\ like Windows, for folders!)\n",
    "- The cell below set the value of __importedDEM__ to this path (`stuff/pyramid.tif`). To import your file, replace this with the name of your geotiff (if you uploaded it the notebook's folder) e.g. myDEM.tif. If you're using your own data folder prepend the folder's name in frony of the filename, e.g. mydata/myDEM.tif. Note that this must not start with a / !\n",
    "- if you do NOT want to use a local geotiff and want to use online DEM rasters instead, set the value to None. Comment/Uncomment the appropriate choice below and hit Shift-Enter\n",
    "- if you are using a local geotiff, skip _Select DEM source_ and _Select print area on geemap_ as the geotiff is your DEM source and  implicitly defines the print area. Go straight to _Setting the tile width_"
   ]
  },
  {
   "cell_type": "code",
   "execution_count": 8,
   "metadata": {},
   "outputs": [],
   "source": [
    "# Comment out one of following two lines:\n",
    "#args[\"importedDEM\"] =  \"stuff/pyramid.tif\" # location of local geotiff to use\n",
    "args[\"importedDEM\"] = None  # use online DEM rasters instead\n",
    "\n",
    "# convert into an absolute path for later\n",
    "if args[\"importedDEM\"] != None:\n",
    "    args[\"importedDEM\"]= os.path.abspath(args[\"importedDEM\"]) \n",
    "    print(\"importedDEM\", args[\"importedDEM\"])"
   ]
  },
  {
   "cell_type": "markdown",
   "metadata": {},
   "source": [
    "### Select the name of the DEM source\n",
    "- Before you can select the actual print area you need to select which online DEM source will be used. The setting is called `DEM_name`.\n",
    "- There are several options but for starters you only need to decide among two options:\n",
    "    - If your area is in the lower 48 US states, use `USGS/NED`\n",
    "    - Anywhere else on the globe use: `JAXA/ALOS/AW3D30/V2_2`\n",
    "- Again, comment/uncomment the appropriate line in the cell below and hit Shift-Enter"
   ]
  },
  {
   "cell_type": "code",
   "execution_count": 6,
   "metadata": {},
   "outputs": [],
   "source": [
    "# Comment out one of the following two lines\n",
    "args[\"DEM_name\"] = \"USGS/3DEP/10m\"  # area within the lower 48 (US)\n",
    "#args[\"DEM_name\"] = \"JAXA/ALOS/AW3D30/V2_2\"  # area is outside the US (worldwide)"
   ]
  },
  {
   "cell_type": "markdown",
   "metadata": {},
   "source": [
    "### Import GPX path lines\n",
    "__This is more of an expert option, if you are just starting, just skip this and go to the next cell__\n",
    "- You can drape one or more gpx (path) files over your terrain\n",
    "- Similar to importedDEM, the file names for the GPX file(s) are stored in the importedGPX setting.\n",
    "- However, as you can import more than one GPX file, you need to put the path name into a list, i.e. inside brackets, even if you just have one GPX file. Separate multiple GPX files with a comma:  \n",
    "    - `args[\"importedGPX\"] = [\"justonegpxfile.gpx\"]`  \n",
    "    - `args[\"importedGPX\"] = [\"file1.gpx\", \"file2.gpx\"]`\n",
    "- `gpxPathHeight` (in meters) defines how much a path is elevated above the terrain. Use a negative number to create a trench.\n",
    "- `gpxPixelsBetweenPoints` (in meters) lets you reduce the number of point in your path to place a point only every X meters. This can help to simplify complex patterns.\n",
    "- `gpxPathThickness` (meters) controls the thickness of the path, which makes it more pronouced when printed\n",
    "- There are several GPX example files in the stuff folder. To use them, uncomment the first 4 lines in the cell below and comment out the last line.\n",
    "- If you're not using GPX files, just leave the cell as is and run it. Setting importedGPX to None means that no GPX files are imported.\n"
   ]
  },
  {
   "cell_type": "code",
   "execution_count": 7,
   "metadata": {},
   "outputs": [],
   "source": [
    "args[\"gpxPathHeight\"] = 5\n",
    "args[\"gpxPixelsBetweenPoints\"] = 20\n",
    "args[\"gpxPathThickness\"] = 2\n",
    "\n",
    "# Comment out one of the following two lines\n",
    "#args[\"importedGPX\"] = [\"stuff/gpx-test/DLRTnML.gpx\", \"stuff/gpx-test/DonnerToFrog.gpx\", \"stuff/gpx-test/CinTwistToFrog.gpx\"] # list of GPX files\n",
    "args[\"importedGPX\"] = None  # Do not use any GPX path files\n"
   ]
  },
  {
   "cell_type": "markdown",
   "metadata": {},
   "source": [
    "## Select your print area\n",
    "-There are several ways to define the area you want to print. Use only one and skip the cells for the other two options. The go to _Setting th tile width_\n",
    "- A)  Enter corner coordinates of a box into a code cell\n",
    "- B)  Use your mouse to digitize a box, circle or polygon on a geemap\n",
    "- C)  Load a kml file (typically created via Google Earth) that contains a single polygon\n",
    "\n",
    "\n",
    "### A) Select print area via lat/long coordinates of its corners (optional)\n",
    "- If you'd rather define your area through actual coordinates, change the default values in the cell below accordingly. \n",
    "- Note that you *must* give it the lat/long of the bottom left (South-West) corner and lat/long of the top right (North-East) corner!\n",
    "- After you've run the cell, jump over the geemap selection and the kml file outline (which would override your settings) and jump straight to `Setting the tile width`"
   ]
  },
  {
   "cell_type": "code",
   "execution_count": null,
   "metadata": {},
   "outputs": [],
   "source": [
    "# Bottom left corner\n",
    "args[\"bllat\"] = 39.322\n",
    "args[\"bllon\"] = -120.374\n",
    "\n",
    "# Top right corner coordinates\n",
    "args[\"trlat\"] = 39.457\n",
    "args[\"trlon\"] = -120.2\n",
    "\n"
   ]
  },
  {
   "cell_type": "markdown",
   "metadata": {},
   "source": [
    "### B) Select print area interactively via geemap\n",
    "- If you didn't use a local geotiff or set your the print area's corner coordinates, run the next cell to show an interactive map, from which you will select your print area. \n",
    "- Valid areas are covered by a grey hillshade layer in the background. If your desired area is not covered, go back and select the worldwide DEM source, and re-run the next cell.\n",
    "- If you're importing GPX files, they will show up on the map as cyan lines.\n",
    "- To find the desired print area, use left mouse drag to pan and mouse wheel (or +- buttons) to zoom in/out.\n",
    "- You can also use the search buttons (globe on top left or spyglass) which will place a marker at the result's location."
   ]
  },
  {
   "cell_type": "code",
   "execution_count": null,
   "metadata": {},
   "outputs": [],
   "source": [
    "# various things I tried to solve the model not found error ...."
   ]
  },
  {
   "cell_type": "code",
   "execution_count": 21,
   "metadata": {},
   "outputs": [
    {
     "name": "stdout",
     "output_type": "stream",
     "text": [
      "Found existing installation: ipywidgets 7.5.1\n",
      "Uninstalling ipywidgets-7.5.1:\n",
      "  Successfully uninstalled ipywidgets-7.5.1\n",
      "Found existing installation: ipyleaflet 0.17.0\n",
      "Uninstalling ipyleaflet-0.17.0:\n",
      "  Successfully uninstalled ipyleaflet-0.17.0\n",
      "Found existing installation: ipyevents 2.0.1\n",
      "Uninstalling ipyevents-2.0.1:\n",
      "  Successfully uninstalled ipyevents-2.0.1\n"
     ]
    }
   ],
   "source": [
    "!pip uninstall -y ipywidgets ipyleaflet ipyevents"
   ]
  },
  {
   "cell_type": "code",
   "execution_count": 22,
   "metadata": {},
   "outputs": [
    {
     "name": "stdout",
     "output_type": "stream",
     "text": [
      "Collecting ipywidgets==7.5.1\n",
      "  Using cached ipywidgets-7.5.1-py2.py3-none-any.whl (121 kB)\n",
      "Requirement already satisfied: nbformat>=4.2.0 in /srv/conda/envs/notebook/lib/python3.7/site-packages (from ipywidgets==7.5.1) (5.4.0)\n",
      "Requirement already satisfied: traitlets>=4.3.1 in /srv/conda/envs/notebook/lib/python3.7/site-packages (from ipywidgets==7.5.1) (5.3.0)\n",
      "Requirement already satisfied: widgetsnbextension~=3.5.0 in /srv/conda/envs/notebook/lib/python3.7/site-packages (from ipywidgets==7.5.1) (3.5.2)\n",
      "Requirement already satisfied: ipython>=4.0.0 in /srv/conda/envs/notebook/lib/python3.7/site-packages (from ipywidgets==7.5.1) (7.33.0)\n",
      "Requirement already satisfied: ipykernel>=4.5.1 in /srv/conda/envs/notebook/lib/python3.7/site-packages (from ipywidgets==7.5.1) (6.15.1)\n",
      "Requirement already satisfied: packaging in /srv/conda/envs/notebook/lib/python3.7/site-packages (from ipykernel>=4.5.1->ipywidgets==7.5.1) (21.3)\n",
      "Requirement already satisfied: nest-asyncio in /srv/conda/envs/notebook/lib/python3.7/site-packages (from ipykernel>=4.5.1->ipywidgets==7.5.1) (1.5.5)\n",
      "Requirement already satisfied: tornado>=6.1 in /srv/conda/envs/notebook/lib/python3.7/site-packages (from ipykernel>=4.5.1->ipywidgets==7.5.1) (6.2)\n",
      "Requirement already satisfied: debugpy>=1.0 in /srv/conda/envs/notebook/lib/python3.7/site-packages (from ipykernel>=4.5.1->ipywidgets==7.5.1) (1.6.0)\n",
      "Requirement already satisfied: matplotlib-inline>=0.1 in /srv/conda/envs/notebook/lib/python3.7/site-packages (from ipykernel>=4.5.1->ipywidgets==7.5.1) (0.1.3)\n",
      "Requirement already satisfied: psutil in /srv/conda/envs/notebook/lib/python3.7/site-packages (from ipykernel>=4.5.1->ipywidgets==7.5.1) (5.9.1)\n",
      "Requirement already satisfied: jupyter-client>=6.1.12 in /srv/conda/envs/notebook/lib/python3.7/site-packages (from ipykernel>=4.5.1->ipywidgets==7.5.1) (7.3.4)\n",
      "Requirement already satisfied: pyzmq>=17 in /srv/conda/envs/notebook/lib/python3.7/site-packages (from ipykernel>=4.5.1->ipywidgets==7.5.1) (23.2.0)\n",
      "Requirement already satisfied: decorator in /srv/conda/envs/notebook/lib/python3.7/site-packages (from ipython>=4.0.0->ipywidgets==7.5.1) (5.1.1)\n",
      "Requirement already satisfied: prompt-toolkit!=3.0.0,!=3.0.1,<3.1.0,>=2.0.0 in /srv/conda/envs/notebook/lib/python3.7/site-packages (from ipython>=4.0.0->ipywidgets==7.5.1) (3.0.30)\n",
      "Requirement already satisfied: pexpect>4.3 in /srv/conda/envs/notebook/lib/python3.7/site-packages (from ipython>=4.0.0->ipywidgets==7.5.1) (4.8.0)\n",
      "Requirement already satisfied: jedi>=0.16 in /srv/conda/envs/notebook/lib/python3.7/site-packages (from ipython>=4.0.0->ipywidgets==7.5.1) (0.18.1)\n",
      "Requirement already satisfied: pygments in /srv/conda/envs/notebook/lib/python3.7/site-packages (from ipython>=4.0.0->ipywidgets==7.5.1) (2.12.0)\n",
      "Requirement already satisfied: backcall in /srv/conda/envs/notebook/lib/python3.7/site-packages (from ipython>=4.0.0->ipywidgets==7.5.1) (0.2.0)\n",
      "Requirement already satisfied: pickleshare in /srv/conda/envs/notebook/lib/python3.7/site-packages (from ipython>=4.0.0->ipywidgets==7.5.1) (0.7.5)\n",
      "Requirement already satisfied: setuptools>=18.5 in /srv/conda/envs/notebook/lib/python3.7/site-packages (from ipython>=4.0.0->ipywidgets==7.5.1) (63.3.0)\n",
      "Requirement already satisfied: jupyter-core in /srv/conda/envs/notebook/lib/python3.7/site-packages (from nbformat>=4.2.0->ipywidgets==7.5.1) (4.11.1)\n",
      "Requirement already satisfied: jsonschema>=2.6 in /srv/conda/envs/notebook/lib/python3.7/site-packages (from nbformat>=4.2.0->ipywidgets==7.5.1) (4.9.0)\n",
      "Requirement already satisfied: fastjsonschema in /srv/conda/envs/notebook/lib/python3.7/site-packages (from nbformat>=4.2.0->ipywidgets==7.5.1) (2.16.1)\n",
      "Requirement already satisfied: notebook>=4.4.1 in /srv/conda/envs/notebook/lib/python3.7/site-packages (from widgetsnbextension~=3.5.0->ipywidgets==7.5.1) (6.4.10)\n",
      "Requirement already satisfied: parso<0.9.0,>=0.8.0 in /srv/conda/envs/notebook/lib/python3.7/site-packages (from jedi>=0.16->ipython>=4.0.0->ipywidgets==7.5.1) (0.8.3)\n",
      "Requirement already satisfied: attrs>=17.4.0 in /srv/conda/envs/notebook/lib/python3.7/site-packages (from jsonschema>=2.6->nbformat>=4.2.0->ipywidgets==7.5.1) (22.1.0)\n",
      "Requirement already satisfied: typing-extensions in /srv/conda/envs/notebook/lib/python3.7/site-packages (from jsonschema>=2.6->nbformat>=4.2.0->ipywidgets==7.5.1) (4.3.0)\n",
      "Requirement already satisfied: pyrsistent!=0.17.0,!=0.17.1,!=0.17.2,>=0.14.0 in /srv/conda/envs/notebook/lib/python3.7/site-packages (from jsonschema>=2.6->nbformat>=4.2.0->ipywidgets==7.5.1) (0.18.1)\n",
      "Requirement already satisfied: pkgutil-resolve-name>=1.3.10 in /srv/conda/envs/notebook/lib/python3.7/site-packages (from jsonschema>=2.6->nbformat>=4.2.0->ipywidgets==7.5.1) (1.3.10)\n",
      "Requirement already satisfied: importlib-metadata in /srv/conda/envs/notebook/lib/python3.7/site-packages (from jsonschema>=2.6->nbformat>=4.2.0->ipywidgets==7.5.1) (4.11.4)\n",
      "Requirement already satisfied: importlib-resources>=1.4.0 in /srv/conda/envs/notebook/lib/python3.7/site-packages (from jsonschema>=2.6->nbformat>=4.2.0->ipywidgets==7.5.1) (5.9.0)\n",
      "Requirement already satisfied: python-dateutil>=2.8.2 in /srv/conda/envs/notebook/lib/python3.7/site-packages (from jupyter-client>=6.1.12->ipykernel>=4.5.1->ipywidgets==7.5.1) (2.8.2)\n",
      "Requirement already satisfied: entrypoints in /srv/conda/envs/notebook/lib/python3.7/site-packages (from jupyter-client>=6.1.12->ipykernel>=4.5.1->ipywidgets==7.5.1) (0.4)\n",
      "Requirement already satisfied: nbconvert>=5 in /srv/conda/envs/notebook/lib/python3.7/site-packages (from notebook>=4.4.1->widgetsnbextension~=3.5.0->ipywidgets==7.5.1) (6.5.0)\n",
      "Requirement already satisfied: prometheus-client in /srv/conda/envs/notebook/lib/python3.7/site-packages (from notebook>=4.4.1->widgetsnbextension~=3.5.0->ipywidgets==7.5.1) (0.14.1)\n",
      "Requirement already satisfied: Send2Trash>=1.8.0 in /srv/conda/envs/notebook/lib/python3.7/site-packages (from notebook>=4.4.1->widgetsnbextension~=3.5.0->ipywidgets==7.5.1) (1.8.0)\n",
      "Requirement already satisfied: argon2-cffi in /srv/conda/envs/notebook/lib/python3.7/site-packages (from notebook>=4.4.1->widgetsnbextension~=3.5.0->ipywidgets==7.5.1) (21.3.0)\n",
      "Requirement already satisfied: ipython-genutils in /srv/conda/envs/notebook/lib/python3.7/site-packages (from notebook>=4.4.1->widgetsnbextension~=3.5.0->ipywidgets==7.5.1) (0.2.0)\n",
      "Requirement already satisfied: terminado>=0.8.3 in /srv/conda/envs/notebook/lib/python3.7/site-packages (from notebook>=4.4.1->widgetsnbextension~=3.5.0->ipywidgets==7.5.1) (0.15.0)\n",
      "Requirement already satisfied: jinja2 in /srv/conda/envs/notebook/lib/python3.7/site-packages (from notebook>=4.4.1->widgetsnbextension~=3.5.0->ipywidgets==7.5.1) (3.1.2)\n",
      "Requirement already satisfied: ptyprocess>=0.5 in /srv/conda/envs/notebook/lib/python3.7/site-packages (from pexpect>4.3->ipython>=4.0.0->ipywidgets==7.5.1) (0.7.0)\n",
      "Requirement already satisfied: wcwidth in /srv/conda/envs/notebook/lib/python3.7/site-packages (from prompt-toolkit!=3.0.0,!=3.0.1,<3.1.0,>=2.0.0->ipython>=4.0.0->ipywidgets==7.5.1) (0.2.5)\n",
      "Requirement already satisfied: pyparsing!=3.0.5,>=2.0.2 in /srv/conda/envs/notebook/lib/python3.7/site-packages (from packaging->ipykernel>=4.5.1->ipywidgets==7.5.1) (3.0.9)\n",
      "Requirement already satisfied: zipp>=3.1.0 in /srv/conda/envs/notebook/lib/python3.7/site-packages (from importlib-resources>=1.4.0->jsonschema>=2.6->nbformat>=4.2.0->ipywidgets==7.5.1) (3.8.0)\n",
      "Requirement already satisfied: mistune<2,>=0.8.1 in /srv/conda/envs/notebook/lib/python3.7/site-packages (from nbconvert>=5->notebook>=4.4.1->widgetsnbextension~=3.5.0->ipywidgets==7.5.1) (0.8.4)\n",
      "Requirement already satisfied: MarkupSafe>=2.0 in /srv/conda/envs/notebook/lib/python3.7/site-packages (from nbconvert>=5->notebook>=4.4.1->widgetsnbextension~=3.5.0->ipywidgets==7.5.1) (2.1.1)\n",
      "Requirement already satisfied: pandocfilters>=1.4.1 in /srv/conda/envs/notebook/lib/python3.7/site-packages (from nbconvert>=5->notebook>=4.4.1->widgetsnbextension~=3.5.0->ipywidgets==7.5.1) (1.5.0)\n",
      "Requirement already satisfied: defusedxml in /srv/conda/envs/notebook/lib/python3.7/site-packages (from nbconvert>=5->notebook>=4.4.1->widgetsnbextension~=3.5.0->ipywidgets==7.5.1) (0.7.1)\n",
      "Requirement already satisfied: nbclient>=0.5.0 in /srv/conda/envs/notebook/lib/python3.7/site-packages (from nbconvert>=5->notebook>=4.4.1->widgetsnbextension~=3.5.0->ipywidgets==7.5.1) (0.6.6)\n",
      "Requirement already satisfied: tinycss2 in /srv/conda/envs/notebook/lib/python3.7/site-packages (from nbconvert>=5->notebook>=4.4.1->widgetsnbextension~=3.5.0->ipywidgets==7.5.1) (1.1.1)\n",
      "Requirement already satisfied: bleach in /srv/conda/envs/notebook/lib/python3.7/site-packages (from nbconvert>=5->notebook>=4.4.1->widgetsnbextension~=3.5.0->ipywidgets==7.5.1) (5.0.1)\n",
      "Requirement already satisfied: beautifulsoup4 in /srv/conda/envs/notebook/lib/python3.7/site-packages (from nbconvert>=5->notebook>=4.4.1->widgetsnbextension~=3.5.0->ipywidgets==7.5.1) (4.11.1)\n",
      "Requirement already satisfied: jupyterlab-pygments in /srv/conda/envs/notebook/lib/python3.7/site-packages (from nbconvert>=5->notebook>=4.4.1->widgetsnbextension~=3.5.0->ipywidgets==7.5.1) (0.2.2)\n",
      "Requirement already satisfied: six>=1.5 in /srv/conda/envs/notebook/lib/python3.7/site-packages (from python-dateutil>=2.8.2->jupyter-client>=6.1.12->ipykernel>=4.5.1->ipywidgets==7.5.1) (1.16.0)\n",
      "Requirement already satisfied: argon2-cffi-bindings in /srv/conda/envs/notebook/lib/python3.7/site-packages (from argon2-cffi->notebook>=4.4.1->widgetsnbextension~=3.5.0->ipywidgets==7.5.1) (21.2.0)\n",
      "Requirement already satisfied: cffi>=1.0.1 in /srv/conda/envs/notebook/lib/python3.7/site-packages (from argon2-cffi-bindings->argon2-cffi->notebook>=4.4.1->widgetsnbextension~=3.5.0->ipywidgets==7.5.1) (1.15.1)\n",
      "Requirement already satisfied: soupsieve>1.2 in /srv/conda/envs/notebook/lib/python3.7/site-packages (from beautifulsoup4->nbconvert>=5->notebook>=4.4.1->widgetsnbextension~=3.5.0->ipywidgets==7.5.1) (2.3.2.post1)\n",
      "Requirement already satisfied: webencodings in /srv/conda/envs/notebook/lib/python3.7/site-packages (from bleach->nbconvert>=5->notebook>=4.4.1->widgetsnbextension~=3.5.0->ipywidgets==7.5.1) (0.5.1)\n",
      "Requirement already satisfied: pycparser in /srv/conda/envs/notebook/lib/python3.7/site-packages (from cffi>=1.0.1->argon2-cffi-bindings->argon2-cffi->notebook>=4.4.1->widgetsnbextension~=3.5.0->ipywidgets==7.5.1) (2.21)\n",
      "Installing collected packages: ipywidgets\n",
      "\u001b[31mERROR: pip's dependency resolver does not currently take into account all the packages that are installed. This behaviour is the source of the following dependency conflicts.\n",
      "geemap 0.16.4 requires ipyevents, which is not installed.\n",
      "geemap 0.16.4 requires ipyleaflet>=0.17.0, which is not installed.\u001b[0m\u001b[31m\n",
      "\u001b[0mSuccessfully installed ipywidgets-7.5.1\n"
     ]
    }
   ],
   "source": [
    "!pip install ipywidgets==7.5.1"
   ]
  },
  {
   "cell_type": "code",
   "execution_count": null,
   "metadata": {},
   "outputs": [],
   "source": [
    "!pip install qgrid --upgrade "
   ]
  },
  {
   "cell_type": "code",
   "execution_count": 29,
   "metadata": {},
   "outputs": [
    {
     "name": "stdout",
     "output_type": "stream",
     "text": []
    },
    {
     "name": "stdout",
     "output_type": "stream",
     "text": []
    },
    {
     "name": "stdout",
     "output_type": "stream",
     "text": []
    },
    {
     "name": "stdout",
     "output_type": "stream",
     "text": []
    },
    {
     "name": "stdout",
     "output_type": "stream",
     "text": []
    },
    {
     "name": "stdout",
     "output_type": "stream",
     "text": []
    },
    {
     "name": "stdout",
     "output_type": "stream",
     "text": []
    },
    {
     "name": "stdout",
     "output_type": "stream",
     "text": [
      "Building jupyterlab assets (production, minimized)\n",
      "An error occurred.\n",
      "RuntimeError: JupyterLab failed to build\n",
      "See the log file for details:  /tmp/jupyterlab-debug-k1n4h_ya.log\n"
     ]
    }
   ],
   "source": [
    "!jupyter labextension install @jupyter-widgets/jupyterlab-manager"
   ]
  },
  {
   "cell_type": "code",
   "execution_count": 23,
   "metadata": {},
   "outputs": [
    {
     "data": {
      "application/vnd.jupyter.widget-view+json": {
       "model_id": "89f7ac73f5264dce987f7d8c16de8576",
       "version_major": 2,
       "version_minor": 0
      },
      "text/plain": [
       "Map(center=[39.389844274126574, -120.28760044432504], controls=(WidgetControl(options=['position', 'transparen…"
      ]
     },
     "metadata": {},
     "output_type": "display_data"
    }
   ],
   "source": [
    "# Create an interactive map and center on default area\n",
    "center_lat = (args[\"trlat\"] + args[\"bllat\"]) / 2\n",
    "center_lon = (args[\"trlon\"] + args[\"bllon\"]) / 2\n",
    "Map = geemap.Map(center=(center_lat, center_lon), zoom=7) \n",
    "\n",
    "# make a hillshade layer and add it to map\n",
    "dem = ee.Image(args[\"DEM_name\"]) # DEM source\n",
    "hs = ee.Terrain.hillshade(dem, 315, 35) # sun azimuth and angle \n",
    "vis_params = {'min': 0,'max': 255,} # greyscale color ramp\n",
    "Map.addLayer(hs, vis_params, 'hillshade', shown=True, opacity=0.5) # semi transparent overlay\n",
    "\n",
    "# if GPX files were used, add them to the map\n",
    "if args[\"importedGPX\"] != None and len(args[\"importedGPX\"]) > 0: \n",
    "        gpx = ee.Feature(convert_to_GeoJSON(args[\"importedGPX\"]))\n",
    "        Map.addLayer(gpx, {\"color\":'00FFFF', \"strokeWidth\":\"1\"}, \"GPX line\", opacity=0.9)\n",
    "\n",
    "Map # makes the interactive map show up as output of this cell"
   ]
  },
  {
   "cell_type": "markdown",
   "metadata": {},
   "source": [
    "- Once you found a good general area, hit a Draw button in the center left to digitize the exact outline of your terrain model. \n",
    "- Your options are: Draw a Polygon or Draw a Rectangle or Draw a Circle. Do NOT use Draw a Marker or a Polyline!\n",
    "- Draw a Rectangle is the simplest method.\n",
    "- Note:I do not know how to edit or delete outlines. If you change you mind you can simply draw another outline on top of previous outline, which will then be used. If this gets too cluttered, you can always re-run the cell above.\n",
    "- Once you're happy with your outline, run the cell below. It will store the outline and use it to create your terrain model. If you change your mind, simply draw another outline and re-run the cell below, it will always take the most recent outline."
   ]
  },
  {
   "cell_type": "code",
   "execution_count": null,
   "metadata": {},
   "outputs": [],
   "source": [
    "# make and store a GeoJSON polygon from (last) digitized outline\n",
    "polyft = Map.draw_last_feature # get last outline\n",
    "args[\"polygon\"] = Polygon(polyft.getInfo()['geometry']['coordinates'])"
   ]
  },
  {
   "cell_type": "markdown",
   "metadata": {},
   "source": [
    "### C) Using a KML file to define the outline of the area\n",
    "- Instead of digitizing an outline in the geemap, you could instead use a polygon stored in a kml file. You can digitize a polygon in Google Earth and store it as a kml file (NOT a kmz file!). \n",
    "- Again, place the kml file in the same folder as the notebook (or in a subfolder) and set `poly_file` to its location.\n",
    "- The stuff folder contains an example kml file"
   ]
  },
  {
   "cell_type": "code",
   "execution_count": 9,
   "metadata": {},
   "outputs": [],
   "source": [
    "# Comment out either this line:\n",
    "args[\"poly_file\"] = None # Don't use a kml file\n",
    "\n",
    "# or both of these lines:\n",
    "args[\"poly_file\"] = \"stuff/polygon_example.kml\" # location of kml file to use\n",
    "#args[\"polygon\"] = None  # ensure that any gee polygon you might have digitized is not used"
   ]
  },
  {
   "cell_type": "markdown",
   "metadata": {},
   "source": [
    "### Setting the tile width\n",
    "- (if you used a local geotiff file as DEM, resume here)\n",
    "- the tilewidth setting defines how large the selected print area will be after it's been printed. Units are in mm.\n",
    "- By width, we mean the extent of you model in the East-West direction. The height will be automatically calculated.\n",
    "- Change the value in the cell below to your liking and hit Shift-Enter\n",
    "- Although this can be fixed later, you should set the width to be less than the widest dimension of your printer's build plate."
   ]
  },
  {
   "cell_type": "code",
   "execution_count": 10,
   "metadata": {},
   "outputs": [],
   "source": [
    "args[\"tilewidth\"] = 120 # in mm"
   ]
  },
  {
   "cell_type": "markdown",
   "metadata": {},
   "source": [
    "### Setting the number of tiles and their and setup  \n",
    "- It's possible to divide the print are into multiple tiles. This will results in several STK files instead of just one.\n",
    "- This is useful if you want to print several (smaller) tiles that each fit on you buildplate and later glue them together into one large model.\n",
    "- If you just want a single STL file, set both, ntilesx and ntilesy, to 1\n",
    "- For multiple tiles, decide how many tiles you want along East-West (ntilesx) and how many along North-South (ntilesy)"
   ]
  },
  {
   "cell_type": "code",
   "execution_count": 11,
   "metadata": {},
   "outputs": [],
   "source": [
    "args[\"ntilesx\"] = 1 # number of tiles in x  \n",
    "args[\"ntilesy\"] = 1 # number of tiles in y    "
   ]
  },
  {
   "cell_type": "markdown",
   "metadata": {},
   "source": [
    "### Setting the Base thickness (in mm)\n",
    "- The basethick setting determines how much material is put beneath the thinnest part to the terrain print \n",
    "- Use a value of at least 0.5 mm, more if you want a beefier base"
   ]
  },
  {
   "cell_type": "code",
   "execution_count": 12,
   "metadata": {},
   "outputs": [],
   "source": [
    "args[\"basethick\"] = 0.6 # in mm"
   ]
  },
  {
   "cell_type": "markdown",
   "metadata": {},
   "source": [
    "### Setting the print resolution\n",
    "- Set this value to the diameter of you nozzle size or slightly below. \n",
    "- Tinker with this only if you know what you're doing. This setting defines how much of the fine details the STL file will contain. The detail you're realistically able to print is limited by your nozzle size. If you set setting much lower than your nozzle size, the STL file will be needlessly large, the slicer will take longer but your print will come out the same as if you had used approximately your nozzle size.\n",
    "- In almost all cases, 0.4 mm will be fine for 3D printers.\n",
    "- If you are using a local geofiff file, setting this to -1 will use the native resolution of the geotiff. This is typically overkill b/c of the nozzle limitation and may lead to huge models that may be too much for you system to handle!"
   ]
  },
  {
   "cell_type": "code",
   "execution_count": 13,
   "metadata": {},
   "outputs": [],
   "source": [
    "args[\"printres\"] = 0.4 # in mm"
   ]
  },
  {
   "cell_type": "markdown",
   "metadata": {},
   "source": [
    "### Setting the z-scale (elevation exaggeration factor)\n",
    "- To print the terrain in its \"true\" form (without any vertical scaling applied), set zscale to 1.0. This works well for terrain with great elevation differences, such as the Grand Canyon or Mt. Fuji\n",
    "- Most other terrain usual benefits from a z-scale larger than 1. For gentle hills, use 1.5 to 2.5. For cities use 2.5 to 6. For river deltas and other low relief areas use up to 10.\n",
    "- The height of your printed terrain should be at least 20 - 30 mm high to show good detail. You can check the processing log for `top min/max`, max should be least 20 - 30 mm. If this is too low, use a higher zscale and process again.\n",
    "- Alternatively, you can set this to a __negative number__ which will be interpreted as the desired height of the tallest terrain point in mm. Examples:  -12.7 means \"make 1/2 inch tall\", -20 means \"make 20 mm tall\", etc."
   ]
  },
  {
   "cell_type": "code",
   "execution_count": 14,
   "metadata": {},
   "outputs": [],
   "source": [
    "args[\"zscale\"] = 1.5 # elevation scale factor"
   ]
  },
  {
   "cell_type": "markdown",
   "metadata": {},
   "source": [
    "### Set the name of your terrain model zipfile\n",
    "- Once a STL file of your terrain model has been created, it will be zipped into a zipfile and copied into the tmp folder. The zipfile also contains a log file and a geotiff.\n",
    "- It's often a good idea to give the zipfile a name that reflects the terrain, e.g. grand_canyon.zipfile\n",
    "- Set zip_file_name to the name of your zipfile. Dot not add the .zip extension, this will be done automatically\n",
    "- To 3D print you model, download the zip file from the container to your native OS"
   ]
  },
  {
   "cell_type": "code",
   "execution_count": 15,
   "metadata": {},
   "outputs": [],
   "source": [
    "args[\"zip_file_name\"] = \"myterrain\" # terrain model will be inside tmp/myterrain.zip"
   ]
  },
  {
   "cell_type": "markdown",
   "metadata": {},
   "source": [
    "### Other settings\n",
    "- There are several more expert settings which we will skip for now.\n",
    "- If you're interested, look here: https://github.com/ChHarding/TouchTerrain_for_CAGEO#processing-parameters\n",
    "- If you're interested, run the cell below to list all setting names and their values\n"
   ]
  },
  {
   "cell_type": "code",
   "execution_count": 16,
   "metadata": {},
   "outputs": [
    {
     "name": "stdout",
     "output_type": "stream",
     "text": [
      "DEM_name USGS/3DEP/10m\n",
      "bllat 39.32205105794382\n",
      "bllon -120.37497608519418\n",
      "trlat 39.45763749030933\n",
      "trlon -120.2002248034559\n",
      "importedDEM None\n",
      "printres 0.4\n",
      "ntilesx 1\n",
      "ntilesy 1\n",
      "tilewidth 120\n",
      "basethick 0.6\n",
      "zscale 1.5\n",
      "fileformat STLb\n",
      "tile_centered False\n",
      "zip_file_name myterrain\n",
      "CPU_cores_to_use 0\n",
      "max_cells_for_memory_only 25000000\n",
      "no_bottom False\n",
      "bottom_image None\n",
      "ignore_leq None\n",
      "lower_leq None\n",
      "unprojected False\n",
      "only None\n",
      "importedGPX None\n",
      "smooth_borders True\n",
      "offset_masks None\n",
      "fill_holes None\n",
      "poly_file stuff/polygon_example.kml\n",
      "gpxPathHeight 5\n",
      "gpxPixelsBetweenPoints 20\n",
      "gpxPathThickness 2\n"
     ]
    }
   ],
   "source": [
    "for name in args:\n",
    "    print(name, args[name])"
   ]
  },
  {
   "cell_type": "markdown",
   "metadata": {},
   "source": [
    "## Generating the STL model file\n",
    "- Running the next cell will convert the DEM (either from a local geotiff file or from a Google Earth online DEM source) into STL file and put it inside a zipfile in the tmp folder. You will also get a log file and the geotiff that was processed.\n",
    "- This may take some time!\n",
    "- During processing you'll see a star indicator (In[*]) and a lot of log messages. Those messages will also be in the logfile inside the zip, and may be useful later."
   ]
  },
  {
   "cell_type": "code",
   "execution_count": 17,
   "metadata": {},
   "outputs": [
    {
     "name": "stderr",
     "output_type": "stream",
     "text": [
      "INFO:root:Read file KML polygon with 28 points from stuff/polygon_example.kml\n",
      "INFO:root:Log for creating 3D model tile(s) for  10m_-122.19_46.20 \n",
      " \n",
      "INFO:root:DEM_name = USGS/3DEP/10m \n",
      "INFO:root:trlat = 46.2432609613901 \n",
      "INFO:root:trlon = -122.15305471195137 \n",
      "INFO:root:bllat = 46.15378648649877 \n",
      "INFO:root:bllon = -122.22804523936263 \n",
      "INFO:root:printres = 0.4 \n",
      "INFO:root:ntilesx = 1 \n",
      "INFO:root:ntilesy = 1 \n",
      "INFO:root:tilewidth = 120 \n",
      "INFO:root:basethick = 0 \n",
      "INFO:root:zscale = 1.5 \n",
      "INFO:root:fileformat = STLb \n",
      "INFO:root:no_bottom = False \n",
      "INFO:root:unprojected = False \n",
      "INFO:root:no_normals = True \n",
      "INFO:root:\n",
      "process started: 20:49:29.782200 \n",
      "INFO:root:\n",
      "Region (lat/lon):\n",
      "   46.2432609613901 -122.15305471195137 (top right)\n",
      "   46.15378648649877 -122.22804523936263 (bottom left) \n",
      "INFO:root:center at [-122.190549975657, 46.19852372394443]  UTM 10 N ,  EPSG:32610 \n",
      "INFO:root:lon/lat size in degrees: [0.07499052741125922, 0.08947447489133253] \n"
     ]
    },
    {
     "name": "stdout",
     "output_type": "stream",
     "text": [
      "Log for creating 3D model tile(s) for  10m_-122.19_46.20 \n",
      " \n",
      "DEM_name = USGS/3DEP/10m \n",
      "trlat = 46.2432609613901 \n",
      "trlon = -122.15305471195137 \n",
      "bllat = 46.15378648649877 \n",
      "bllon = -122.22804523936263 \n",
      "printres = 0.4 \n",
      "ntilesx = 1 \n",
      "ntilesy = 1 \n",
      "tilewidth = 120 \n",
      "basethick = 0 \n",
      "zscale = 1.5 \n",
      "fileformat = STLb \n",
      "no_bottom = False \n",
      "unprojected = False \n",
      "no_normals = True \n",
      "\n",
      "process started: 20:49:29.782200 \n",
      "\n",
      "Region (lat/lon):\n",
      "   46.2432609613901 -122.15305471195137 (top right)\n",
      "   46.15378648649877 -122.22804523936263 (bottom left) \n",
      "center at [-122.190549975657, 46.19852372394443]  UTM 10 N ,  EPSG:32610 \n",
      "lon/lat size in degrees: [0.07499052741125922, 0.08947447489133253] \n",
      "requesting 19.294004065718443 m resolution from EarthEngine\n"
     ]
    },
    {
     "name": "stderr",
     "output_type": "stream",
     "text": [
      "INFO:root:Earth Engine raster: USGS/3DEP/10m \n"
     ]
    },
    {
     "name": "stdout",
     "output_type": "stream",
     "text": [
      "Earth Engine raster: USGS/3DEP/10m \n"
     ]
    },
    {
     "name": "stderr",
     "output_type": "stream",
     "text": [
      "INFO:root:URL for geotiff is:  https://earthengine.googleapis.com/v1alpha/projects/earthengine-legacy/thumbnails/0033fd3be589beb36d9c348b940855ff-7edc1153fcb155df0965baf9a17cdfaa:getPixels \n"
     ]
    },
    {
     "name": "stdout",
     "output_type": "stream",
     "text": [
      "URL for geotiff is:  https://earthengine.googleapis.com/v1alpha/projects/earthengine-legacy/thumbnails/0033fd3be589beb36d9c348b940855ff-7edc1153fcb155df0965baf9a17cdfaa:getPixels \n"
     ]
    },
    {
     "name": "stderr",
     "output_type": "stream",
     "text": [
      "INFO:root: geotiff size: 0.3565378189086914 Mb \n",
      "INFO:root: cell size 19.294004065718443 m, upper left corner (x/y):  559506.8239017691 5121439.027212435 \n",
      "INFO:root:omitting cells with elevation < -16384 \n",
      "INFO:root:full (untiled) raster (height,width)  (520, 306) float64 elev. min/max: 1092.9068603515625 2546.7685546875 \n",
      "INFO:root:cell size: 19.294004065718443 m  \n",
      "INFO:root:adjusted print res from the requested 0.4 mm to 0.39215686274509803 mm to ensure correct model dimensions \n",
      "INFO:root:total model size in mm: 120 x 203.92156862745097 \n",
      "INFO:root:map scale is 1 : 49199.71036758203 \n",
      "INFO:root:Cells per tile (x/y) 306 x 520 \n",
      "INFO:root:using single-core only \n"
     ]
    },
    {
     "name": "stdout",
     "output_type": "stream",
     "text": [
      " geotiff size: 0.3565378189086914 Mb \n",
      " cell size 19.294004065718443 m, upper left corner (x/y):  559506.8239017691 5121439.027212435 \n",
      "omitting cells with elevation < -16384 \n",
      "full (untiled) raster (height,width)  (520, 306) float64 elev. min/max: 1092.9068603515625 2546.7685546875 \n",
      "cell size: 19.294004065718443 m  \n",
      "adjusted print res from the requested 0.4 mm to 0.39215686274509803 mm to ensure correct model dimensions \n",
      "total model size in mm: 120 x 203.92156862745097 \n",
      "map scale is 1 : 49199.71036758203 \n",
      "elev min/max : 1092.91 to 2546.77\n",
      "Cells per tile (x/y) 306 x 520 \n",
      "using single-core only \n",
      "processing tile: 1 1\n",
      "top min/max: 0.6 44.92531259250752\n"
     ]
    },
    {
     "name": "stderr",
     "output_type": "stream",
     "text": [
      "creating internal triangle data structure for <_MainProcess(MainProcess, started)>\n",
      "10 % <_MainProcess(MainProcess, started)>\n",
      "20 % <_MainProcess(MainProcess, started)>\n",
      "30 % <_MainProcess(MainProcess, started)>\n",
      "40 % <_MainProcess(MainProcess, started)>\n",
      "50 % <_MainProcess(MainProcess, started)>\n",
      "60 % <_MainProcess(MainProcess, started)>\n",
      "70 % <_MainProcess(MainProcess, started)>\n",
      "80 % <_MainProcess(MainProcess, started)>\n",
      "90 % <_MainProcess(MainProcess, started)>\n",
      "100% <_MainProcess(MainProcess, started)> \n",
      "\n",
      "assembling binary stl from 441976 triangles  None\n",
      "10 %, 20 %, 30 %, 40 %, 50 %, 60 %, 70 %, 80 %, 90 %, 100 %, \n",
      "\n",
      "tile 1 1 STLb 21.075138092041016 Mb \n",
      "INFO:root:\n",
      "1 x 1 tiles, tile size 120.00 x 203.92 mm\n",
      " \n",
      "INFO:root:tile 1 1 : height:  0.6 - 44.92531259250752 mm , file size: 21 Mb \n",
      "INFO:root:\n",
      "total size for all tiles: 21 Mb \n",
      "INFO:root:added full geotiff as 10m_-122.19_46.20.tif \n",
      "INFO:root:\n",
      "processing finished: 20:49:48.089987 \n"
     ]
    },
    {
     "name": "stdout",
     "output_type": "stream",
     "text": [
      "\n",
      "1 x 1 tiles, tile size 120.00 x 203.92 mm\n",
      " \n",
      "tile 1 1 : height:  0.6 - 44.92531259250752 mm , file size: 21 Mb \n",
      "\n",
      "total size for all tiles: 21 Mb \n",
      "zip finished: 20:49:48.087314\n",
      "added full geotiff as 10m_-122.19_46.20.tif \n",
      "\n",
      "processing finished: 20:49:48.089987 \n",
      "Created zip file tmp/myterrain.zip 21.43 Mb\n"
     ]
    }
   ],
   "source": [
    "# create zipfile under tmp with the STL file of the terrain model\n",
    "totalsize, full_zip_file_name = TouchTerrain.get_zipped_tiles(**args) \n",
    "print(\"Created zip file\", full_zip_file_name,  \"%.2f\" % totalsize, \"Mb\")"
   ]
  },
  {
   "cell_type": "markdown",
   "metadata": {},
   "source": [
    "## Preview the model\n",
    "- run the cell below to get a 3D Preview of the model. If you have multiple tiles they will have different colors."
   ]
  },
  {
   "cell_type": "code",
   "execution_count": null,
   "metadata": {},
   "outputs": [],
   "source": [
    "!pip install --upgrade qgrid>=1.1.1"
   ]
  },
  {
   "cell_type": "code",
   "execution_count": 20,
   "metadata": {},
   "outputs": [
    {
     "name": "stdout",
     "output_type": "stream",
     "text": []
    },
    {
     "name": "stdout",
     "output_type": "stream",
     "text": []
    },
    {
     "name": "stdout",
     "output_type": "stream",
     "text": []
    },
    {
     "name": "stdout",
     "output_type": "stream",
     "text": []
    },
    {
     "name": "stdout",
     "output_type": "stream",
     "text": []
    },
    {
     "name": "stdout",
     "output_type": "stream",
     "text": []
    },
    {
     "name": "stdout",
     "output_type": "stream",
     "text": []
    },
    {
     "name": "stdout",
     "output_type": "stream",
     "text": []
    },
    {
     "name": "stdout",
     "output_type": "stream",
     "text": []
    },
    {
     "name": "stdout",
     "output_type": "stream",
     "text": []
    },
    {
     "name": "stdout",
     "output_type": "stream",
     "text": []
    },
    {
     "name": "stdout",
     "output_type": "stream",
     "text": []
    },
    {
     "name": "stdout",
     "output_type": "stream",
     "text": []
    },
    {
     "name": "stdout",
     "output_type": "stream",
     "text": []
    },
    {
     "name": "stdout",
     "output_type": "stream",
     "text": []
    },
    {
     "name": "stdout",
     "output_type": "stream",
     "text": []
    },
    {
     "name": "stdout",
     "output_type": "stream",
     "text": []
    },
    {
     "name": "stdout",
     "output_type": "stream",
     "text": []
    },
    {
     "name": "stdout",
     "output_type": "stream",
     "text": []
    },
    {
     "name": "stdout",
     "output_type": "stream",
     "text": []
    },
    {
     "name": "stdout",
     "output_type": "stream",
     "text": []
    },
    {
     "name": "stdout",
     "output_type": "stream",
     "text": []
    },
    {
     "name": "stdout",
     "output_type": "stream",
     "text": []
    },
    {
     "name": "stdout",
     "output_type": "stream",
     "text": []
    },
    {
     "name": "stdout",
     "output_type": "stream",
     "text": []
    },
    {
     "name": "stdout",
     "output_type": "stream",
     "text": []
    },
    {
     "name": "stdout",
     "output_type": "stream",
     "text": []
    },
    {
     "name": "stdout",
     "output_type": "stream",
     "text": []
    },
    {
     "name": "stdout",
     "output_type": "stream",
     "text": []
    },
    {
     "name": "stdout",
     "output_type": "stream",
     "text": []
    },
    {
     "name": "stdout",
     "output_type": "stream",
     "text": []
    },
    {
     "name": "stdout",
     "output_type": "stream",
     "text": [
      "Building jupyterlab assets (production, minimized)\n",
      "An error occurred.\n",
      "RuntimeError: JupyterLab failed to build\n",
      "See the log file for details:  /tmp/jupyterlab-debug-76qn8h3j.log\n"
     ]
    }
   ],
   "source": [
    "!jupyter labextension install @8080labs/qgrid"
   ]
  },
  {
   "cell_type": "code",
   "execution_count": 21,
   "metadata": {},
   "outputs": [
    {
     "name": "stdout",
     "output_type": "stream",
     "text": [
      "JupyterLab v3.3.3\n",
      "/srv/conda/envs/notebook/share/jupyter/labextensions\n",
      "        jupyterlab_pygments v0.2.2 \u001b[32menabled\u001b[0m \u001b[32mOK\u001b[0m (python, jupyterlab_pygments)\n",
      "        jupyter-offlinenotebook v0.2.2 \u001b[32menabled\u001b[0m \u001b[32mOK\u001b[0m\n",
      "        ipytree v0.2.1 \u001b[32menabled\u001b[0m \u001b[32mOK\u001b[0m\n",
      "        k3d v2.14.5 \u001b[32menabled\u001b[0m \u001b[32mOK\u001b[0m (python, k3d)\n",
      "        jupyterlab-plotly v5.10.0 \u001b[32menabled\u001b[0m \u001b[32mOK\u001b[0m\n",
      "        bqplot v0.5.34 \u001b[32menabled\u001b[0m \u001b[32mOK\u001b[0m (python, bqplot)\n",
      "        ipyevents v2.0.1 \u001b[32menabled\u001b[0m \u001b[32mOK\u001b[0m\n",
      "        jupyter-leaflet v0.17.0 \u001b[32menabled\u001b[0m \u001b[32mOK\u001b[0m\n",
      "        @jupyter-widgets/jupyterlab-manager v3.1.1 \u001b[32menabled\u001b[0m \u001b[32mOK\u001b[0m (python, jupyterlab_widgets)\n",
      "        @jupyter-server/resource-usage v0.6.1 \u001b[32menabled\u001b[0m \u001b[32mOK\u001b[0m (python, jupyter-resource-usage)\n",
      "\n",
      "Other labextensions (built into JupyterLab)\n",
      "   app dir: /srv/conda/envs/notebook/share/jupyter/lab\n",
      "        @8080labs/qgrid v1.1.1 \u001b[32menabled\u001b[0m \u001b[32mOK\u001b[0m\n",
      "\n",
      "\n",
      "Build recommended, please run `jupyter lab build`:\n",
      "    @8080labs/qgrid needs to be included in build\n"
     ]
    }
   ],
   "source": [
    "!jupyter labextension list"
   ]
  },
  {
   "cell_type": "code",
   "execution_count": 26,
   "metadata": {},
   "outputs": [
    {
     "name": "stdout",
     "output_type": "stream",
     "text": [
      "[LabBuildApp] JupyterLab 3.3.3\n",
      "[LabBuildApp] Building in /srv/conda/envs/notebook/share/jupyter/lab\n",
      "[LabBuildApp] Building jupyterlab assets (production, not minimized)\n",
      "Build failed.\n",
      "Troubleshooting: If the build failed due to an out-of-memory error, you\n",
      "may be able to fix it by disabling the `dev_build` and/or `minimize` options.\n",
      "\n",
      "If you are building via the `jupyter lab build` command, you can disable\n",
      "these options like so:\n",
      "\n",
      "jupyter lab build --dev-build=False --minimize=False\n",
      "\n",
      "You can also disable these options for all JupyterLab builds by adding these\n",
      "lines to a Jupyter config file named `jupyter_config.py`:\n",
      "\n",
      "c.LabBuildApp.minimize = False\n",
      "c.LabBuildApp.dev_build = False\n",
      "\n",
      "If you don't already have a `jupyter_config.py` file, you can create one by\n",
      "adding a blank file of that name to any of the Jupyter config directories.\n",
      "The config directories can be listed by running:\n",
      "\n",
      "jupyter --paths\n",
      "\n",
      "Explanation:\n",
      "\n",
      "- `dev-build`: This option controls whether a `dev` or a more streamlined\n",
      "`production` build is used. This option will default to `False` (i.e., the\n",
      "`production` build) for most users. However, if you have any labextensions\n",
      "installed from local files, this option will instead default to `True`.\n",
      "Explicitly setting `dev-build` to `False` will ensure that the `production`\n",
      "build is used in all circumstances.\n",
      "\n",
      "- `minimize`: This option controls whether your JS bundle is minified\n",
      "during the Webpack build, which helps to improve JupyterLab's overall\n",
      "performance. However, the minifier plugin used by Webpack is very memory\n",
      "intensive, so turning it off may help the build finish successfully in\n",
      "low-memory environments.\n",
      "\n",
      "An error occurred.\n",
      "RuntimeError: JupyterLab failed to build\n",
      "See the log file for details:  /tmp/jupyterlab-debug-te1mq87d.log\n"
     ]
    }
   ],
   "source": [
    "!jupyter lab build  --dev-build=False --minimize=False"
   ]
  },
  {
   "cell_type": "code",
   "execution_count": 24,
   "metadata": {},
   "outputs": [
    {
     "ename": "NameError",
     "evalue": "name 'full_zip_file_name' is not defined",
     "output_type": "error",
     "traceback": [
      "\u001b[0;31m---------------------------------------------------------------------------\u001b[0m",
      "\u001b[0;31mNameError\u001b[0m                                 Traceback (most recent call last)",
      "\u001b[0;32m/tmp/ipykernel_1960/4039899508.py\u001b[0m in \u001b[0;36m<module>\u001b[0;34m\u001b[0m\n\u001b[1;32m      1\u001b[0m \u001b[0;31m# unzip zif file into a folder a\u001b[0m\u001b[0;34m\u001b[0m\u001b[0;34m\u001b[0m\u001b[0;34m\u001b[0m\u001b[0m\n\u001b[0;32m----> 2\u001b[0;31m \u001b[0mfolder\u001b[0m\u001b[0;34m,\u001b[0m \u001b[0mfile\u001b[0m \u001b[0;34m=\u001b[0m \u001b[0mos\u001b[0m\u001b[0;34m.\u001b[0m\u001b[0mpath\u001b[0m\u001b[0;34m.\u001b[0m\u001b[0msplitext\u001b[0m\u001b[0;34m(\u001b[0m\u001b[0mfull_zip_file_name\u001b[0m\u001b[0;34m)\u001b[0m\u001b[0;34m\u001b[0m\u001b[0;34m\u001b[0m\u001b[0m\n\u001b[0m\u001b[1;32m      3\u001b[0m \u001b[0mzip_ref\u001b[0m \u001b[0;34m=\u001b[0m \u001b[0mzipfile\u001b[0m\u001b[0;34m.\u001b[0m\u001b[0mZipFile\u001b[0m\u001b[0;34m(\u001b[0m\u001b[0mfull_zip_file_name\u001b[0m\u001b[0;34m,\u001b[0m \u001b[0;34m'r'\u001b[0m\u001b[0;34m)\u001b[0m\u001b[0;34m\u001b[0m\u001b[0;34m\u001b[0m\u001b[0m\n\u001b[1;32m      4\u001b[0m \u001b[0mzip_ref\u001b[0m\u001b[0;34m.\u001b[0m\u001b[0mextractall\u001b[0m\u001b[0;34m(\u001b[0m\u001b[0mfolder\u001b[0m\u001b[0;34m)\u001b[0m\u001b[0;34m\u001b[0m\u001b[0;34m\u001b[0m\u001b[0m\n\u001b[1;32m      5\u001b[0m \u001b[0mzip_ref\u001b[0m\u001b[0;34m.\u001b[0m\u001b[0mclose\u001b[0m\u001b[0;34m(\u001b[0m\u001b[0;34m)\u001b[0m\u001b[0;34m\u001b[0m\u001b[0;34m\u001b[0m\u001b[0m\n",
      "\u001b[0;31mNameError\u001b[0m: name 'full_zip_file_name' is not defined"
     ]
    }
   ],
   "source": [
    "# unzip zif file into a folder a\n",
    "folder, file = os.path.splitext(full_zip_file_name) \n",
    "zip_ref = zipfile.ZipFile(full_zip_file_name, 'r')\n",
    "zip_ref.extractall(folder)\n",
    "zip_ref.close()\n",
    "\n",
    "# get all stl files (tiles) in that folder\n",
    "mesh_files = glob(folder + os.sep + \"*.STL\")\n",
    "\n",
    "# Create 3D plot\n",
    "plot = k3d.plot()\n",
    "\n",
    "# Add all tiles with a random color\n",
    "for m in mesh_files:\n",
    "    col = (randint(0,255) << 16) + (randint(0,255) << 8) + randint(0,255) # random rgb color as hex\n",
    "    buf = open(m, 'rb').read()\n",
    "    plot += k3d.stl(buf, color=col)\n",
    "plot.display()\n",
    "\n",
    "# remove folder\n",
    "rmtree(folder)"
   ]
  },
  {
   "cell_type": "markdown",
   "metadata": {},
   "source": [
    "## Final thoughts\n",
    "- You can now download your zipfile from the tmp folder and unzip it to 3D print the STL file.\n",
    "- In the jupyter file manager (tree), navigate to the folder that contains the file (tmp) and select the zip file via the checkbox on the left. A Download button will appear at the top, click it to download the zip file to your native operating system (Win10 or Mac).\n",
    "- If you want to upload files, use the Upload button in the upper right.\n",
    "\n",
    "### How to quit and resume working on this notebook\n",
    "- As you worked through the notebook, you changed the content of its cells and also created output cells. These changes are automatically saved every couple of minutes. Hit the floppy icon to save manually now.\n",
    "- If you're OK with keeping the container running in the background you can close the jupyter browser windows. To resume, just copy/paste the 127.0.0.1 URL again. Or you could just leave the browser windows running.\n",
    "- If you want to exit (stop) the container, make sure to save your notebook first. Then, open the Docker Desktop App, find the (running) touchterrain_container under Containers. Hit STOP (__but not DELETE!__) to exit the container. This will also terminate the jupyter server, so you can close its browser windows.\n",
    "\n",
    "#### Resuming (from a \"sleeping\" container)\n",
    "- Although you've exited the container, anything you created or changed within the container is still saved despite being stopped. \n",
    "- To resume working with the notebook, open the Docker Desktop App and find the exited (stopped) touchterrain_container under Containers on the right. \n",
    "- Click on START and then on CLI, this will give you a container terminal. \n",
    "- Type in `bash` and hit enter (this will give you a nicer type of shell). Now type `./run` and hit the tab key, this will result in `./run_touchterrain.sh`. \n",
    "- Hit Enter and note the URL starting with 127.0.0.1 that comes up. Copy this URL (with the long token string at the end!) and paste it into a browser. \n",
    "- Click on your notebook to resume working with it, it will have all the changes since the last save, including most of the output (except the interactive map and 3D viz).\n",
    "- To avoid confusion, it's best to clear the output cells and start with a clean slate. Under Kernel, run Restart and Clear Output. Now start running cells from the top (except the authorization cell).\n",
    "\n",
    "#### Updates \n",
    "- At some point, it may be necessary to update either the TouchTerrain module or the entire docker image. For example, there may be new functionality that you want to use. In both cases, your work will be lost or overwritten, so it's imperative to save any files you want to carry over to the updated system first (i.e., download them). This may include your notebook file or any models (zip files) you have created, via the Download button in jupyter.\n",
    "\n",
    "#### Help, I deleted my container!\n",
    "- If you removed your container via the Docker Desktop app, either accidentally or b/c you downloaded (pulled) a new docker image, you need to use a OS terminal (PowerShell on Win10 or Terminal.app on Mac) and start the container again using `docker run`. \n",
    "- After running the container, you will again have to run the install script (`./install_touchterrain.sh`) and then run jupyter with `./run_touchterrain.sh` and copy/paste the `127.0.0.1` URL into your browser.\n",
    "- For more see https://github.com/ChHarding/TouchTerrain_jupyter_docker#download-the-image-and-run-the-container\n",
    "- Once jupyter is running, re-upload anything you need (notebook, data) to the container and resume working"
   ]
  },
  {
   "cell_type": "code",
   "execution_count": null,
   "metadata": {},
   "outputs": [],
   "source": []
  }
 ],
 "metadata": {
  "kernelspec": {
   "display_name": "Python 3.10.6 64-bit",
   "language": "python",
   "name": "python3"
  },
  "language_info": {
   "codemirror_mode": {
    "name": "ipython",
    "version": 3
   },
   "file_extension": ".py",
   "mimetype": "text/x-python",
   "name": "python",
   "nbconvert_exporter": "python",
   "pygments_lexer": "ipython3",
   "version": "3.10.6"
  },
  "varInspector": {
   "cols": {
    "lenName": 16,
    "lenType": 16,
    "lenVar": 40
   },
   "kernels_config": {
    "python": {
     "delete_cmd_postfix": "",
     "delete_cmd_prefix": "del ",
     "library": "var_list.py",
     "varRefreshCmd": "print(var_dic_list())"
    },
    "r": {
     "delete_cmd_postfix": ") ",
     "delete_cmd_prefix": "rm(",
     "library": "var_list.r",
     "varRefreshCmd": "cat(var_dic_list()) "
    }
   },
   "types_to_exclude": [
    "module",
    "function",
    "builtin_function_or_method",
    "instance",
    "_Feature"
   ],
   "window_display": false
  },
  "vscode": {
   "interpreter": {
    "hash": "b1be0222797457612977eb3eaa00946922d56583fa52c09202534133b3ce7849"
   }
  }
 },
 "nbformat": 4,
 "nbformat_minor": 4
}
